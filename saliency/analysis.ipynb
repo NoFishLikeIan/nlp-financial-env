{
 "cells": [
  {
   "cell_type": "code",
   "execution_count": 43,
   "source": [
    "from typing import NewType, Callable"
   ],
   "outputs": [],
   "metadata": {}
  },
  {
   "cell_type": "code",
   "execution_count": 1,
   "source": [
    "import pandas as pd\n",
    "import numpy as np"
   ],
   "outputs": [],
   "metadata": {}
  },
  {
   "cell_type": "code",
   "execution_count": 61,
   "source": [
    "import dotenv, os\n",
    "\n",
    "dotenv.load_dotenv()\n",
    "\n",
    "data_path = os.path.join(\"..\", os.environ.get(\"DATA_PATH\"), \"ESG.xlsx\")\n",
    "sheet_name = os.environ.get(\"SHEET_NAME\")\n",
    "\n",
    "raw = pd.read_excel(data_path, sheet_name = sheet_name)"
   ],
   "outputs": [],
   "metadata": {}
  },
  {
   "cell_type": "code",
   "execution_count": 71,
   "source": [
    "data = raw.iloc[3:, :]\n",
    "data.columns = raw.iloc[2, :].apply(lambda e: str(int(e) if type(e) is np.float64 else str(e)))\n",
    "\n",
    "data = data[data.Name != \"#ERROR\"].reset_index(drop = True)\n",
    "\n",
    "\n",
    "score_types = list(set(data[\"Name\"].apply(lambda s: s.split(\"-\")[-1].strip())))\n",
    "\n"
   ],
   "outputs": [],
   "metadata": {}
  },
  {
   "cell_type": "code",
   "execution_count": 70,
   "source": [
    "\"\"\"\n",
    "From raw .xlsx ESG data construct a function of year that yields pd.DataFrame with companies as row, type of index as columns, and scores.\n",
    "\"\"\"\n",
    "def get_esg_by_year(raw:pd.DataFrame) -> Callable[[str, str], pd.DataFrame]:\n",
    "\n",
    "    data = raw.iloc[3:, :]\n",
    "    data.columns = raw.iloc[2, :].apply(\n",
    "        lambda e: str(int(e) if type(e) is np.float64 else str(e)))\n",
    "\n",
    "    data = data.reset_index(drop = True)\n",
    "\n",
    "    score_types = list(set(data[\"Name\"].apply(lambda s: s.split(\"-\")[-1].strip())))\n",
    "\n",
    "\n",
    "    def out(year):\n",
    "        year = str(year)\n",
    "\n",
    "        \n",
    "    \n",
    "    return"
   ],
   "outputs": [],
   "metadata": {}
  },
  {
   "cell_type": "code",
   "execution_count": null,
   "source": [],
   "outputs": [],
   "metadata": {}
  },
  {
   "cell_type": "code",
   "execution_count": null,
   "source": [],
   "outputs": [],
   "metadata": {}
  }
 ],
 "metadata": {
  "orig_nbformat": 4,
  "language_info": {
   "name": "python",
   "version": "3.8.9",
   "mimetype": "text/x-python",
   "codemirror_mode": {
    "name": "ipython",
    "version": 3
   },
   "pygments_lexer": "ipython3",
   "nbconvert_exporter": "python",
   "file_extension": ".py"
  },
  "kernelspec": {
   "name": "python3",
   "display_name": "Python 3.8.9 64-bit ('.venv': venv)"
  },
  "interpreter": {
   "hash": "7b46fb511bc59a61e2cf0fe05a56a1bcd3e13c2b34c73d026e34adf315775514"
  }
 },
 "nbformat": 4,
 "nbformat_minor": 2
}