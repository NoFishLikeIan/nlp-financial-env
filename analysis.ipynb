{
 "cells": [
  {
   "cell_type": "code",
   "execution_count": 36,
   "metadata": {},
   "outputs": [],
   "source": [
    "import pandas as pd\n",
    "import os\n",
    "import numpy as np\n",
    "import matplotlib.pyplot as plt\n",
    "import seaborn as sns\n",
    "\n",
    "sns.set(rc={\"figure.figsize\": (13, 9)})"
   ]
  },
  {
   "cell_type": "code",
   "execution_count": 37,
   "metadata": {},
   "outputs": [],
   "source": [
    "from sklearn.feature_extraction.text import TfidfVectorizer"
   ]
  },
  {
   "cell_type": "code",
   "execution_count": 28,
   "metadata": {},
   "outputs": [],
   "source": [
    "from utils import read_pdf, parser_model\n",
    "from nlp import topic"
   ]
  },
  {
   "cell_type": "code",
   "execution_count": 29,
   "metadata": {},
   "outputs": [],
   "source": [
    "data_files = [f\"data/{filename}\" for filename in os.listdir(\"data\") if \".pdf\" in filename]"
   ]
  },
  {
   "cell_type": "code",
   "execution_count": 30,
   "metadata": {},
   "outputs": [],
   "source": [
    "text = read_pdf.path_to_sentences(data_files[0])"
   ]
  },
  {
   "cell_type": "code",
   "execution_count": 31,
   "metadata": {},
   "outputs": [],
   "source": [
    "model, corpus, sentences = topic.get_topics(text, num_topics = 50)"
   ]
  },
  {
   "cell_type": "code",
   "execution_count": 32,
   "metadata": {},
   "outputs": [],
   "source": [
    "def format_topics_sentences(ldamodel, corpus, texts):\n",
    "    \n",
    "    sent_topics_df = pd.DataFrame()\n",
    "\n",
    "    for i, row_list in enumerate(ldamodel[corpus]):\n",
    "        row = row_list[0] if ldamodel.per_word_topics else row_list            \n",
    "        row = sorted(row, key=lambda x: (x[1]), reverse=True)\n",
    "\n",
    "        for j, (topic_num, prop_topic) in enumerate(row):\n",
    "            if j == 0: \n",
    "                wp = ldamodel.show_topic(topic_num)\n",
    "                topic_keywords = \", \".join([word for word, prop in wp])\n",
    "                sent_topics_df = sent_topics_df.append(pd.Series([int(topic_num), round(prop_topic,4), topic_keywords]), ignore_index=True)\n",
    "            else:\n",
    "                break\n",
    "                \n",
    "    sent_topics_df.columns = ['Dominant_Topic', 'Perc_Contribution', 'Topic_Keywords']\n",
    "\n",
    "    contents = pd.Series(texts)\n",
    "    sent_topics_df = pd.concat([sent_topics_df, contents], axis=1)\n",
    "    return(sent_topics_df)"
   ]
  },
  {
   "cell_type": "code",
   "execution_count": 33,
   "metadata": {},
   "outputs": [
    {
     "data": {
      "text/html": [
       "<div>\n",
       "<style scoped>\n",
       "    .dataframe tbody tr th:only-of-type {\n",
       "        vertical-align: middle;\n",
       "    }\n",
       "\n",
       "    .dataframe tbody tr th {\n",
       "        vertical-align: top;\n",
       "    }\n",
       "\n",
       "    .dataframe thead th {\n",
       "        text-align: right;\n",
       "    }\n",
       "</style>\n",
       "<table border=\"1\" class=\"dataframe\">\n",
       "  <thead>\n",
       "    <tr style=\"text-align: right;\">\n",
       "      <th></th>\n",
       "      <th>Document_No</th>\n",
       "      <th>Dominant_Topic</th>\n",
       "      <th>Topic_Perc_Contrib</th>\n",
       "      <th>Keywords</th>\n",
       "      <th>Text</th>\n",
       "    </tr>\n",
       "  </thead>\n",
       "  <tbody>\n",
       "    <tr>\n",
       "      <th>0</th>\n",
       "      <td>0</td>\n",
       "      <td>44.0</td>\n",
       "      <td>0.9409</td>\n",
       "      <td>voting, policy, company, management, interest,...</td>\n",
       "      <td>[3Content, introduction, manage, conflict, int...</td>\n",
       "    </tr>\n",
       "    <tr>\n",
       "      <th>1</th>\n",
       "      <td>1</td>\n",
       "      <td>14.0</td>\n",
       "      <td>0.5198</td>\n",
       "      <td>board, director, executive, company, Ł, shareh...</td>\n",
       "      <td>[Boards, director]</td>\n",
       "    </tr>\n",
       "    <tr>\n",
       "      <th>2</th>\n",
       "      <td>2</td>\n",
       "      <td>5.0</td>\n",
       "      <td>0.6092</td>\n",
       "      <td>auditor, NN, IP, asset, Group, board, proposal...</td>\n",
       "      <td>[Remuneration, benefit, Capital, structure, as...</td>\n",
       "    </tr>\n",
       "    <tr>\n",
       "      <th>3</th>\n",
       "      <td>3</td>\n",
       "      <td>37.0</td>\n",
       "      <td>0.9598</td>\n",
       "      <td>NN, asset, Group, IP, policy, interest, busine...</td>\n",
       "      <td>[asset, manage, account, client, NN, Group, ™,...</td>\n",
       "    </tr>\n",
       "    <tr>\n",
       "      <th>4</th>\n",
       "      <td>4</td>\n",
       "      <td>23.0</td>\n",
       "      <td>0.9807</td>\n",
       "      <td>company, ™, business, right, investee, value, ...</td>\n",
       "      <td>[general, NN, IP, intention, participate, dire...</td>\n",
       "    </tr>\n",
       "    <tr>\n",
       "      <th>5</th>\n",
       "      <td>5</td>\n",
       "      <td>4.0</td>\n",
       "      <td>0.9891</td>\n",
       "      <td>company, NN, risk, voting, shareholder, Ł, IP,...</td>\n",
       "      <td>[believe, environmental, social, corporate, go...</td>\n",
       "    </tr>\n",
       "    <tr>\n",
       "      <th>6</th>\n",
       "      <td>6</td>\n",
       "      <td>4.0</td>\n",
       "      <td>0.9808</td>\n",
       "      <td>company, NN, risk, voting, shareholder, Ł, IP,...</td>\n",
       "      <td>[document, describe, framework, NN, IP, use, e...</td>\n",
       "    </tr>\n",
       "    <tr>\n",
       "      <th>7</th>\n",
       "      <td>7</td>\n",
       "      <td>44.0</td>\n",
       "      <td>0.9738</td>\n",
       "      <td>voting, policy, company, management, interest,...</td>\n",
       "      <td>[policy, result, activity, focus, protect, enh...</td>\n",
       "    </tr>\n",
       "    <tr>\n",
       "      <th>8</th>\n",
       "      <td>8</td>\n",
       "      <td>0.0</td>\n",
       "      <td>0.9650</td>\n",
       "      <td>governance, corporate, company, practice, ™, s...</td>\n",
       "      <td>[dialogue, director, investee, company, help, ...</td>\n",
       "    </tr>\n",
       "    <tr>\n",
       "      <th>9</th>\n",
       "      <td>9</td>\n",
       "      <td>0.0</td>\n",
       "      <td>0.9764</td>\n",
       "      <td>governance, corporate, company, practice, ™, s...</td>\n",
       "      <td>[NN, IP, decide, base, corporate, governance, ...</td>\n",
       "    </tr>\n",
       "  </tbody>\n",
       "</table>\n",
       "</div>"
      ],
      "text/plain": [
       "   Document_No  Dominant_Topic  Topic_Perc_Contrib  \\\n",
       "0            0            44.0              0.9409   \n",
       "1            1            14.0              0.5198   \n",
       "2            2             5.0              0.6092   \n",
       "3            3            37.0              0.9598   \n",
       "4            4            23.0              0.9807   \n",
       "5            5             4.0              0.9891   \n",
       "6            6             4.0              0.9808   \n",
       "7            7            44.0              0.9738   \n",
       "8            8             0.0              0.9650   \n",
       "9            9             0.0              0.9764   \n",
       "\n",
       "                                            Keywords  \\\n",
       "0  voting, policy, company, management, interest,...   \n",
       "1  board, director, executive, company, Ł, shareh...   \n",
       "2  auditor, NN, IP, asset, Group, board, proposal...   \n",
       "3  NN, asset, Group, IP, policy, interest, busine...   \n",
       "4  company, ™, business, right, investee, value, ...   \n",
       "5  company, NN, risk, voting, shareholder, Ł, IP,...   \n",
       "6  company, NN, risk, voting, shareholder, Ł, IP,...   \n",
       "7  voting, policy, company, management, interest,...   \n",
       "8  governance, corporate, company, practice, ™, s...   \n",
       "9  governance, corporate, company, practice, ™, s...   \n",
       "\n",
       "                                                Text  \n",
       "0  [3Content, introduction, manage, conflict, int...  \n",
       "1                                 [Boards, director]  \n",
       "2  [Remuneration, benefit, Capital, structure, as...  \n",
       "3  [asset, manage, account, client, NN, Group, ™,...  \n",
       "4  [general, NN, IP, intention, participate, dire...  \n",
       "5  [believe, environmental, social, corporate, go...  \n",
       "6  [document, describe, framework, NN, IP, use, e...  \n",
       "7  [policy, result, activity, focus, protect, enh...  \n",
       "8  [dialogue, director, investee, company, help, ...  \n",
       "9  [NN, IP, decide, base, corporate, governance, ...  "
      ]
     },
     "execution_count": 33,
     "metadata": {},
     "output_type": "execute_result"
    }
   ],
   "source": [
    "df_topic_sents_keywords = format_topics_sentences(model, corpus, sentences)\n",
    "\n",
    "# Format\n",
    "df_dominant_topic = df_topic_sents_keywords.reset_index()\n",
    "df_dominant_topic.columns = ['Document_No', 'Dominant_Topic', 'Topic_Perc_Contrib', 'Keywords', 'Text']\n",
    "df_dominant_topic.head(10)"
   ]
  },
  {
   "cell_type": "code",
   "execution_count": 34,
   "metadata": {},
   "outputs": [],
   "source": [
    "def plot_bigrams(sentences, n = 10):\n",
    "    bigram_tf_idf_vectorizer = TfidfVectorizer(ngram_range=(2,2), min_df=n, use_idf=True)\n",
    "    bigram_tf_idf = bigram_tf_idf_vectorizer.fit_transform([\" \".join(sent) for sent in sentences])\n",
    "    \n",
    "    words = bigram_tf_idf_vectorizer.get_feature_names()\n",
    "    \n",
    "    total_counts = np.zeros(len(words))\n",
    "    for t in bigram_tf_idf:\n",
    "        total_counts += t.toarray()[0]\n",
    "        \n",
    "    count_dict = (zip(words, total_counts))\n",
    "    count_dict = sorted(count_dict, key=lambda x:x[1], reverse=True)[:n]\n",
    "    words = [w[0] for w in count_dict]\n",
    "    counts = [w[1] for w in count_dict]\n",
    "    x_pos = np.arange(len(words)) \n",
    "    \n",
    "    fig, ax = plt.subplots()\n",
    "    ax.set_title(f\"{n} most common bigrams\")\n",
    "    \n",
    "    sns.barplot(x_pos, counts, palette=\"Blues_r\", ax = ax)\n",
    "    ax.set_xticks(x_pos)\n",
    "    ax.set_xticklabels(words, rotation = 45)\n",
    "    \n",
    "    ax.set_xlabel(\"Bi-grams\")\n",
    "    \n",
    "    \n",
    "    return fig,"
   ]
  },
  {
   "cell_type": "code",
   "execution_count": 40,
   "metadata": {},
   "outputs": [
    {
     "name": "stderr",
     "output_type": "stream",
     "text": [
      "FutureWarning: Pass the following variables as keyword args: x, y. From version 0.12, the only valid positional argument will be `data`, and passing other arguments without an explicit keyword will result in an error or misinterpretation. [_decorators.py:36]\n"
     ]
    },
    {
     "data": {
      "image/png": "[encoded data removed]",
      "text/plain": [
       "<Figure size 936x648 with 1 Axes>"
      ]
     },
     "metadata": {},
     "output_type": "display_data"
    }
   ],
   "source": [
    "fig = plot_bigrams(sentences, n = 10)"
   ]
  },
  {
   "cell_type": "code",
   "execution_count": null,
   "metadata": {},
   "outputs": [],
   "source": []
  }
 ],
 "metadata": {
  "kernelspec": {
   "display_name": "Python 3",
   "language": "python",
   "name": "python3"
  },
  "language_info": {
   "codemirror_mode": {
    "name": "ipython",
    "version": 3
   },
   "file_extension": ".py",
   "mimetype": "text/x-python",
   "name": "python",
   "nbconvert_exporter": "python",
   "pygments_lexer": "ipython3",
   "version": "3.8.0"
  }
 },
 "nbformat": 4,
 "nbformat_minor": 4
}
