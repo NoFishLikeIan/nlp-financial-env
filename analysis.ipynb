{
 "cells": [
  {
   "cell_type": "code",
   "execution_count": 1,
   "metadata": {},
   "outputs": [],
   "source": [
    "import pandas as pd\n",
    "import os\n",
    "import numpy as np\n",
    "import matplotlib.pyplot as plt\n",
    "import seaborn as sns\n",
    "\n",
    "sns.set(rc={\"figure.figsize\": (13, 9)})"
   ]
  },
  {
   "cell_type": "code",
   "execution_count": 2,
   "metadata": {},
   "outputs": [],
   "source": [
    "from sklearn.feature_extraction.text import TfidfVectorizer"
   ]
  },
  {
   "cell_type": "code",
   "execution_count": 3,
   "metadata": {},
   "outputs": [],
   "source": [
    "from utils import read_pdf, parser_model\n",
    "from nlp import topic"
   ]
  },
  {
   "cell_type": "code",
   "execution_count": 4,
   "metadata": {},
   "outputs": [
    {
     "name": "stdout",
     "output_type": "stream",
     "text": [
      "Not an url: https://www.blackrock.com/corporate/literature/publication/blk-annual-stewardship-report-2020.pdf \n"
     ]
    }
   ],
   "source": [
    "with open(\"data/urls-st.txt\", \"r\") as file:\n",
    "    urls = file.read().split(\"\\n\")\n",
    "    \n",
    "for url in urls:\n",
    "    if not read_pdf.is_url(url):\n",
    "        print(f\"Not an url: {url}\")"
   ]
  },
  {
   "cell_type": "code",
   "execution_count": 13,
   "metadata": {},
   "outputs": [
    {
     "name": "stderr",
     "output_type": "stream",
     "text": [
      "PdfReadWarning: Xref table not zero-indexed. ID numbers for objects will be corrected. [pdf.py:1736]\n"
     ]
    }
   ],
   "source": [
    "text = read_pdf.path_to_sentences(urls[5])"
   ]
  },
  {
   "cell_type": "code",
   "execution_count": 14,
   "metadata": {},
   "outputs": [],
   "source": [
    "model, corpus, sentences = topic.get_topics(text, num_topics = 50)"
   ]
  },
  {
   "cell_type": "code",
   "execution_count": 15,
   "metadata": {},
   "outputs": [],
   "source": [
    "def format_topics_sentences(ldamodel, corpus, texts):\n",
    "    \n",
    "    sent_topics_df = pd.DataFrame()\n",
    "\n",
    "    for i, row_list in enumerate(ldamodel[corpus]):\n",
    "        row = row_list[0] if ldamodel.per_word_topics else row_list            \n",
    "        row = sorted(row, key=lambda x: (x[1]), reverse=True)\n",
    "\n",
    "        for j, (topic_num, prop_topic) in enumerate(row):\n",
    "            if j == 0: \n",
    "                wp = ldamodel.show_topic(topic_num)\n",
    "                topic_keywords = \", \".join([word for word, prop in wp])\n",
    "                sent_topics_df = sent_topics_df.append(pd.Series([int(topic_num), round(prop_topic,4), topic_keywords]), ignore_index=True)\n",
    "            else:\n",
    "                break\n",
    "                \n",
    "    sent_topics_df.columns = ['Dominant_Topic', 'Perc_Contribution', 'Topic_Keywords']\n",
    "\n",
    "    contents = pd.Series(texts)\n",
    "    sent_topics_df = pd.concat([sent_topics_df, contents], axis=1)\n",
    "    return(sent_topics_df)"
   ]
  },
  {
   "cell_type": "code",
   "execution_count": 16,
   "metadata": {},
   "outputs": [
    {
     "data": {
      "text/html": [
       "<div>\n",
       "<style scoped>\n",
       "    .dataframe tbody tr th:only-of-type {\n",
       "        vertical-align: middle;\n",
       "    }\n",
       "\n",
       "    .dataframe tbody tr th {\n",
       "        vertical-align: top;\n",
       "    }\n",
       "\n",
       "    .dataframe thead th {\n",
       "        text-align: right;\n",
       "    }\n",
       "</style>\n",
       "<table border=\"1\" class=\"dataframe\">\n",
       "  <thead>\n",
       "    <tr style=\"text-align: right;\">\n",
       "      <th></th>\n",
       "      <th>Document_No</th>\n",
       "      <th>Dominant_Topic</th>\n",
       "      <th>Topic_Perc_Contrib</th>\n",
       "      <th>Keywords</th>\n",
       "      <th>Text</th>\n",
       "    </tr>\n",
       "  </thead>\n",
       "  <tbody>\n",
       "    <tr>\n",
       "      <th>0</th>\n",
       "      <td>0</td>\n",
       "      <td>18.0</td>\n",
       "      <td>0.9587</td>\n",
       "      <td>investment, J.P., |, source, apply, ASSET, por...</td>\n",
       "      <td>[George, Gatch, CHIEF, EXECUTIVE, OFFICER, J.P...</td>\n",
       "    </tr>\n",
       "    <tr>\n",
       "      <th>1</th>\n",
       "      <td>1</td>\n",
       "      <td>6.0</td>\n",
       "      <td>0.9915</td>\n",
       "      <td>company, Global, Head, sustainability, Asset, ...</td>\n",
       "      <td>[J.P., MORGAN, ASSET, MANAGEMENT, |, Foreword,...</td>\n",
       "    </tr>\n",
       "    <tr>\n",
       "      <th>2</th>\n",
       "      <td>2</td>\n",
       "      <td>14.0</td>\n",
       "      <td>0.9844</td>\n",
       "      <td>investment, stewardship, company, risk, engage...</td>\n",
       "      <td>[paper, pleased, introduce, approach, reinforc...</td>\n",
       "    </tr>\n",
       "    <tr>\n",
       "      <th>3</th>\n",
       "      <td>3</td>\n",
       "      <td>45.0</td>\n",
       "      <td>0.9827</td>\n",
       "      <td>investment, long, term, believe, stewardship, ...</td>\n",
       "      <td>[Jennifer, Wu, Global, Head, Sustainable, Inve...</td>\n",
       "    </tr>\n",
       "    <tr>\n",
       "      <th>4</th>\n",
       "      <td>4</td>\n",
       "      <td>40.0</td>\n",
       "      <td>0.7830</td>\n",
       "      <td>company, human, capital, management, diversity...</td>\n",
       "      <td>[investment, stewardship, adhere, set, norm, l...</td>\n",
       "    </tr>\n",
       "    <tr>\n",
       "      <th>5</th>\n",
       "      <td>5</td>\n",
       "      <td>47.0</td>\n",
       "      <td>0.9920</td>\n",
       "      <td>risk, investment, di˚erent, investor, company,...</td>\n",
       "      <td>[identify, risk, opportunity, substantial, act...</td>\n",
       "    </tr>\n",
       "    <tr>\n",
       "      <th>6</th>\n",
       "      <td>6</td>\n",
       "      <td>27.0</td>\n",
       "      <td>0.9366</td>\n",
       "      <td>change, risk, company, Head, pose, investment,...</td>\n",
       "      <td>[approach, provide, broad, ˛exibility, datum, ...</td>\n",
       "    </tr>\n",
       "    <tr>\n",
       "      <th>7</th>\n",
       "      <td>7</td>\n",
       "      <td>32.0</td>\n",
       "      <td>0.7741</td>\n",
       "      <td>term, theme, security, cyber, long, capital, p...</td>\n",
       "      <td>[J.P., MORGAN, ASSET, MANAGEMENT, |, ˚ve, inve...</td>\n",
       "    </tr>\n",
       "    <tr>\n",
       "      <th>8</th>\n",
       "      <td>8</td>\n",
       "      <td>23.0</td>\n",
       "      <td>0.9842</td>\n",
       "      <td>board, company, key, assess, responsibility, p...</td>\n",
       "      <td>[believe, vital, encourage, high, governance, ...</td>\n",
       "    </tr>\n",
       "    <tr>\n",
       "      <th>9</th>\n",
       "      <td>9</td>\n",
       "      <td>20.0</td>\n",
       "      <td>0.9892</td>\n",
       "      <td>investor, board, long, term, company, change, ...</td>\n",
       "      <td>[active, investor, demand, high, standard, com...</td>\n",
       "    </tr>\n",
       "  </tbody>\n",
       "</table>\n",
       "</div>"
      ],
      "text/plain": [
       "   Document_No  Dominant_Topic  Topic_Perc_Contrib  \\\n",
       "0            0            18.0              0.9587   \n",
       "1            1             6.0              0.9915   \n",
       "2            2            14.0              0.9844   \n",
       "3            3            45.0              0.9827   \n",
       "4            4            40.0              0.7830   \n",
       "5            5            47.0              0.9920   \n",
       "6            6            27.0              0.9366   \n",
       "7            7            32.0              0.7741   \n",
       "8            8            23.0              0.9842   \n",
       "9            9            20.0              0.9892   \n",
       "\n",
       "                                            Keywords  \\\n",
       "0  investment, J.P., |, source, apply, ASSET, por...   \n",
       "1  company, Global, Head, sustainability, Asset, ...   \n",
       "2  investment, stewardship, company, risk, engage...   \n",
       "3  investment, long, term, believe, stewardship, ...   \n",
       "4  company, human, capital, management, diversity...   \n",
       "5  risk, investment, di˚erent, investor, company,...   \n",
       "6  change, risk, company, Head, pose, investment,...   \n",
       "7  term, theme, security, cyber, long, capital, p...   \n",
       "8  board, company, key, assess, responsibility, p...   \n",
       "9  investor, board, long, term, company, change, ...   \n",
       "\n",
       "                                                Text  \n",
       "0  [George, Gatch, CHIEF, EXECUTIVE, OFFICER, J.P...  \n",
       "1  [J.P., MORGAN, ASSET, MANAGEMENT, |, Foreword,...  \n",
       "2  [paper, pleased, introduce, approach, reinforc...  \n",
       "3  [Jennifer, Wu, Global, Head, Sustainable, Inve...  \n",
       "4  [investment, stewardship, adhere, set, norm, l...  \n",
       "5  [identify, risk, opportunity, substantial, act...  \n",
       "6  [approach, provide, broad, ˛exibility, datum, ...  \n",
       "7  [J.P., MORGAN, ASSET, MANAGEMENT, |, ˚ve, inve...  \n",
       "8  [believe, vital, encourage, high, governance, ...  \n",
       "9  [active, investor, demand, high, standard, com...  "
      ]
     },
     "execution_count": 16,
     "metadata": {},
     "output_type": "execute_result"
    }
   ],
   "source": [
    "df_topic_sents_keywords = format_topics_sentences(model, corpus, sentences)\n",
    "\n",
    "# Format\n",
    "df_dominant_topic = df_topic_sents_keywords.reset_index()\n",
    "df_dominant_topic.columns = ['Document_No', 'Dominant_Topic', 'Topic_Perc_Contrib', 'Keywords', 'Text']\n",
    "df_dominant_topic.head(10)"
   ]
  },
  {
   "cell_type": "code",
   "execution_count": 17,
   "metadata": {},
   "outputs": [],
   "source": [
    "def plot_bigrams(sentences, n = 10):\n",
    "    bigram_tf_idf_vectorizer = TfidfVectorizer(ngram_range=(2,2), use_idf=True)\n",
    "    bigram_tf_idf = bigram_tf_idf_vectorizer.fit_transform([\" \".join(sent) for sent in sentences])\n",
    "    \n",
    "    words = bigram_tf_idf_vectorizer.get_feature_names()\n",
    "    \n",
    "    total_counts = np.zeros(len(words))\n",
    "    for t in bigram_tf_idf:\n",
    "        total_counts += t.toarray()[0]\n",
    "        \n",
    "    count_dict = (zip(words, total_counts))\n",
    "    count_dict = sorted(count_dict, key=lambda x:x[1], reverse=True)[:n]\n",
    "    words = [w[0] for w in count_dict]\n",
    "    counts = [w[1] for w in count_dict]\n",
    "    x_pos = np.arange(len(words)) \n",
    "    \n",
    "    fig, ax = plt.subplots()\n",
    "    ax.set_title(f\"{n} most common bigrams\")\n",
    "    \n",
    "    sns.barplot(x_pos, counts, palette=\"Blues_r\", ax = ax)\n",
    "    ax.set_xticks(x_pos)\n",
    "    ax.set_xticklabels(words, rotation = 45)\n",
    "    \n",
    "    ax.set_xlabel(\"Bi-grams\")\n",
    "    \n",
    "    \n",
    "    return fig,"
   ]
  },
  {
   "cell_type": "code",
   "execution_count": 18,
   "metadata": {},
   "outputs": [
    {
     "name": "stderr",
     "output_type": "stream",
     "text": [
      "FutureWarning: Pass the following variables as keyword args: x, y. From version 0.12, the only valid positional argument will be `data`, and passing other arguments without an explicit keyword will result in an error or misinterpretation. [_decorators.py:36]\n"
     ]
    },
    {
     "data": {
      "image/png": "[encoded data removed]",
      "text/plain": [
       "<Figure size 936x648 with 1 Axes>"
      ]
     },
     "metadata": {},
     "output_type": "display_data"
    }
   ],
   "source": [
    "fig = plot_bigrams(sentences, n = 10)"
   ]
  },
  {
   "cell_type": "code",
   "execution_count": null,
   "metadata": {},
   "outputs": [],
   "source": []
  }
 ],
 "metadata": {
  "kernelspec": {
   "display_name": "Python 3",
   "language": "python",
   "name": "python3"
  },
  "language_info": {
   "codemirror_mode": {
    "name": "ipython",
    "version": 3
   },
   "file_extension": ".py",
   "mimetype": "text/x-python",
   "name": "python",
   "nbconvert_exporter": "python",
   "pygments_lexer": "ipython3",
   "version": "3.8.0"
  }
 },
 "nbformat": 4,
 "nbformat_minor": 4
}
