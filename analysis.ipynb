{
 "cells": [
  {
   "cell_type": "code",
   "execution_count": 1,
   "metadata": {},
   "outputs": [],
   "source": [
    "import pandas as pd\n",
    "import os"
   ]
  },
  {
   "cell_type": "code",
   "execution_count": 2,
   "metadata": {},
   "outputs": [],
   "source": [
    "from utils import read_pdf, parser_model\n",
    "from nlp import topic"
   ]
  },
  {
   "cell_type": "code",
   "execution_count": 4,
   "metadata": {},
   "outputs": [],
   "source": [
    "data_files = [f\"data/{filename}\" for filename in os.listdir(\"data\") if \".pdf\" in filename]"
   ]
  },
  {
   "cell_type": "code",
   "execution_count": 9,
   "metadata": {},
   "outputs": [
    {
     "name": "stderr",
     "output_type": "stream",
     "text": [
      "PdfReadWarning: Xref table not zero-indexed. ID numbers for objects will be corrected. [pdf.py:1736]\n"
     ]
    }
   ],
   "source": [
    "text = read_pdf.path_to_sentences(data_files[1])"
   ]
  },
  {
   "cell_type": "code",
   "execution_count": 10,
   "metadata": {},
   "outputs": [],
   "source": [
    "model, corpus, sentences = topic.get_topics(text, num_topics = 50)"
   ]
  },
  {
   "cell_type": "code",
   "execution_count": 11,
   "metadata": {},
   "outputs": [],
   "source": [
    "def format_topics_sentences(ldamodel, corpus, texts):\n",
    "    \n",
    "    sent_topics_df = pd.DataFrame()\n",
    "\n",
    "    for i, row_list in enumerate(ldamodel[corpus]):\n",
    "        row = row_list[0] if ldamodel.per_word_topics else row_list            \n",
    "        row = sorted(row, key=lambda x: (x[1]), reverse=True)\n",
    "\n",
    "        for j, (topic_num, prop_topic) in enumerate(row):\n",
    "            if j == 0: \n",
    "                wp = ldamodel.show_topic(topic_num)\n",
    "                topic_keywords = \", \".join([word for word, prop in wp])\n",
    "                sent_topics_df = sent_topics_df.append(pd.Series([int(topic_num), round(prop_topic,4), topic_keywords]), ignore_index=True)\n",
    "            else:\n",
    "                break\n",
    "                \n",
    "    sent_topics_df.columns = ['Dominant_Topic', 'Perc_Contribution', 'Topic_Keywords']\n",
    "\n",
    "    contents = pd.Series(texts)\n",
    "    sent_topics_df = pd.concat([sent_topics_df, contents], axis=1)\n",
    "    return(sent_topics_df)"
   ]
  },
  {
   "cell_type": "code",
   "execution_count": 12,
   "metadata": {},
   "outputs": [
    {
     "data": {
      "text/html": [
       "<div>\n",
       "<style scoped>\n",
       "    .dataframe tbody tr th:only-of-type {\n",
       "        vertical-align: middle;\n",
       "    }\n",
       "\n",
       "    .dataframe tbody tr th {\n",
       "        vertical-align: top;\n",
       "    }\n",
       "\n",
       "    .dataframe thead th {\n",
       "        text-align: right;\n",
       "    }\n",
       "</style>\n",
       "<table border=\"1\" class=\"dataframe\">\n",
       "  <thead>\n",
       "    <tr style=\"text-align: right;\">\n",
       "      <th></th>\n",
       "      <th>Document_No</th>\n",
       "      <th>Dominant_Topic</th>\n",
       "      <th>Topic_Perc_Contrib</th>\n",
       "      <th>Keywords</th>\n",
       "      <th>Text</th>\n",
       "    </tr>\n",
       "  </thead>\n",
       "  <tbody>\n",
       "    <tr>\n",
       "      <th>0</th>\n",
       "      <td>0</td>\n",
       "      <td>1.0</td>\n",
       "      <td>0.9272</td>\n",
       "      <td>asset, interest, voting, shareholder, takeover...</td>\n",
       "      <td>[Proxy, Voting, Policy, Client, asset, Decembe...</td>\n",
       "    </tr>\n",
       "    <tr>\n",
       "      <th>1</th>\n",
       "      <td>1</td>\n",
       "      <td>31.0</td>\n",
       "      <td>0.9211</td>\n",
       "      <td>voting, share, right, time, double, period, is...</td>\n",
       "      <td>[underlie, principle, proxy, voting, policy, p...</td>\n",
       "    </tr>\n",
       "    <tr>\n",
       "      <th>2</th>\n",
       "      <td>2</td>\n",
       "      <td>14.0</td>\n",
       "      <td>0.6815</td>\n",
       "      <td>board, executive, Ł, company, director, struct...</td>\n",
       "      <td>[board, director]</td>\n",
       "    </tr>\n",
       "    <tr>\n",
       "      <th>3</th>\n",
       "      <td>3</td>\n",
       "      <td>41.0</td>\n",
       "      <td>0.6816</td>\n",
       "      <td>company, shareholder, voting, executive, NN, a...</td>\n",
       "      <td>[remuneration, benefit]</td>\n",
       "    </tr>\n",
       "    <tr>\n",
       "      <th>4</th>\n",
       "      <td>4</td>\n",
       "      <td>29.0</td>\n",
       "      <td>0.4031</td>\n",
       "      <td>report, annual, company, account, non, Ł, remu...</td>\n",
       "      <td>[Audit, annual, report]</td>\n",
       "    </tr>\n",
       "    <tr>\n",
       "      <th>5</th>\n",
       "      <td>5</td>\n",
       "      <td>43.0</td>\n",
       "      <td>0.9475</td>\n",
       "      <td>company, structure, ™, NN, article, IP, propos...</td>\n",
       "      <td>[capital, structure, asset, sale, M&amp;A, special...</td>\n",
       "    </tr>\n",
       "    <tr>\n",
       "      <th>6</th>\n",
       "      <td>6</td>\n",
       "      <td>9.0</td>\n",
       "      <td>0.8100</td>\n",
       "      <td>company, NN, share, IP, ™, s, receipt, deposit...</td>\n",
       "      <td>[depositary, receipt, trust, office]</td>\n",
       "    </tr>\n",
       "    <tr>\n",
       "      <th>7</th>\n",
       "      <td>7</td>\n",
       "      <td>14.0</td>\n",
       "      <td>0.8417</td>\n",
       "      <td>board, executive, Ł, company, director, struct...</td>\n",
       "      <td>[environmental, social, governance, ESG, issue]</td>\n",
       "    </tr>\n",
       "    <tr>\n",
       "      <th>8</th>\n",
       "      <td>8</td>\n",
       "      <td>41.0</td>\n",
       "      <td>0.8105</td>\n",
       "      <td>company, shareholder, voting, executive, NN, a...</td>\n",
       "      <td>[security, lending, client, asset, 15nn, Inves...</td>\n",
       "    </tr>\n",
       "    <tr>\n",
       "      <th>9</th>\n",
       "      <td>9</td>\n",
       "      <td>33.0</td>\n",
       "      <td>0.9845</td>\n",
       "      <td>corporate, Ł, event, Governance, executive, NN...</td>\n",
       "      <td>[NN, IP, ™, s, client, include, large, small, ...</td>\n",
       "    </tr>\n",
       "  </tbody>\n",
       "</table>\n",
       "</div>"
      ],
      "text/plain": [
       "   Document_No  Dominant_Topic  Topic_Perc_Contrib  \\\n",
       "0            0             1.0              0.9272   \n",
       "1            1            31.0              0.9211   \n",
       "2            2            14.0              0.6815   \n",
       "3            3            41.0              0.6816   \n",
       "4            4            29.0              0.4031   \n",
       "5            5            43.0              0.9475   \n",
       "6            6             9.0              0.8100   \n",
       "7            7            14.0              0.8417   \n",
       "8            8            41.0              0.8105   \n",
       "9            9            33.0              0.9845   \n",
       "\n",
       "                                            Keywords  \\\n",
       "0  asset, interest, voting, shareholder, takeover...   \n",
       "1  voting, share, right, time, double, period, is...   \n",
       "2  board, executive, Ł, company, director, struct...   \n",
       "3  company, shareholder, voting, executive, NN, a...   \n",
       "4  report, annual, company, account, non, Ł, remu...   \n",
       "5  company, structure, ™, NN, article, IP, propos...   \n",
       "6  company, NN, share, IP, ™, s, receipt, deposit...   \n",
       "7  board, executive, Ł, company, director, struct...   \n",
       "8  company, shareholder, voting, executive, NN, a...   \n",
       "9  corporate, Ł, event, Governance, executive, NN...   \n",
       "\n",
       "                                                Text  \n",
       "0  [Proxy, Voting, Policy, Client, asset, Decembe...  \n",
       "1  [underlie, principle, proxy, voting, policy, p...  \n",
       "2                                  [board, director]  \n",
       "3                            [remuneration, benefit]  \n",
       "4                            [Audit, annual, report]  \n",
       "5  [capital, structure, asset, sale, M&A, special...  \n",
       "6               [depositary, receipt, trust, office]  \n",
       "7    [environmental, social, governance, ESG, issue]  \n",
       "8  [security, lending, client, asset, 15nn, Inves...  \n",
       "9  [NN, IP, ™, s, client, include, large, small, ...  "
      ]
     },
     "execution_count": 12,
     "metadata": {},
     "output_type": "execute_result"
    }
   ],
   "source": [
    "df_topic_sents_keywords = format_topics_sentences(model, corpus, sentences)\n",
    "\n",
    "# Format\n",
    "df_dominant_topic = df_topic_sents_keywords.reset_index()\n",
    "df_dominant_topic.columns = ['Document_No', 'Dominant_Topic', 'Topic_Perc_Contrib', 'Keywords', 'Text']\n",
    "df_dominant_topic.head(10)"
   ]
  },
  {
   "cell_type": "code",
   "execution_count": null,
   "metadata": {},
   "outputs": [],
   "source": []
  }
 ],
 "metadata": {
  "kernelspec": {
   "display_name": "Python 3",
   "language": "python",
   "name": "python3"
  },
  "language_info": {
   "codemirror_mode": {
    "name": "ipython",
    "version": 3
   },
   "file_extension": ".py",
   "mimetype": "text/x-python",
   "name": "python",
   "nbconvert_exporter": "python",
   "pygments_lexer": "ipython3",
   "version": "3.8.0"
  }
 },
 "nbformat": 4,
 "nbformat_minor": 4
}
