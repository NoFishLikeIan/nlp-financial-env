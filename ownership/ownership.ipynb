{
 "cells": [
  {
   "cell_type": "code",
   "execution_count": 1,
   "metadata": {},
   "outputs": [],
   "source": [
    "import pandas as pd\n",
    "import itertools as it\n",
    "\n",
    "import orbis as ob\n",
    "import capitaliq as cq"
   ]
  },
  {
   "source": [
    "### Importing ownership data on companies\n",
    "\n",
    "The companies are \n",
    "- 'nbim',\n",
    "- 'nn' \n",
    "- Blackrock: 'blackrock'\n",
    "- 'dws'\n",
    "- APG: 'apg'\n",
    "- Generali: 'generali'\n",
    "- J.P. Morgan: 'jpmam'"
   ],
   "cell_type": "markdown",
   "metadata": {}
  },
  {
   "cell_type": "code",
   "execution_count": 2,
   "metadata": {},
   "outputs": [],
   "source": [
    "df = cq.import_xls(\"../data/capitaliq/BlackRock Inc NYSE BLK Public Holdings Detailed.xls\")"
   ]
  },
  {
   "cell_type": "code",
   "execution_count": 3,
   "metadata": {},
   "outputs": [
    {
     "output_type": "execute_result",
     "data": {
      "text/plain": [
       "34                           Company Name      Exchange:\\nTicker  \\\n",
       "0                              Apple Inc.          NasdaqGS:AAPL   \n",
       "1                   Microsoft Corporation          NasdaqGS:MSFT   \n",
       "2                        Amazon.com, Inc.          NasdaqGS:AMZN   \n",
       "3                          Facebook, Inc.            NasdaqGS:FB   \n",
       "4                           Alphabet Inc.        NasdaqGS:GOOG.L   \n",
       "...                                   ...                    ...   \n",
       "14903  China Metal Recycling Holdings Ltd    SEHK:773 (Inactive)   \n",
       "14904                    The Hut.com Ltd.  UNQ - A2 Common Stock   \n",
       "14905                    The Hut.com Ltd.              UNQ - COM   \n",
       "14906                         FF Group AG             Namen-Akt.   \n",
       "14907                       Atom Bank plc    UNQ - Common Stock    \n",
       "\n",
       "34    Security Type      Shares % Of CSO % Of Equity Market Value (USD in mm)  \\\n",
       "0      Common Stock  1055005602    6.322        2.74                   129523   \n",
       "1      Common Stock   518649291    6.886        2.62                   123957   \n",
       "2      Common Stock    28012846    5.555        1.87                  88294.8   \n",
       "3      Common Stock   157946327    6.592        1.01                  47786.7   \n",
       "4      Common Stock    20560019    6.836        0.96                  45237.2   \n",
       "...             ...         ...      ...         ...                      ...   \n",
       "14903  Common Stock      481200    0.041           -                        -   \n",
       "14904  Common Stock       98169        -           -                        -   \n",
       "14905  Common Stock        3430        -           -                        -   \n",
       "14906  Common Stock        8203        -           -                        -   \n",
       "14907  Common Stock    11802229        -           -                        -   \n",
       "\n",
       "34    Change in Shares % Change        Position Date                   Source  \\\n",
       "0             -1455684    -0.14  2021-03-31 00:00:00                      13F   \n",
       "1              3140112     0.61  2021-03-31 00:00:00                      13F   \n",
       "2               488097     1.77  2021-03-31 00:00:00                      13F   \n",
       "3             -1709004    -1.07  2021-03-31 00:00:00                      13F   \n",
       "4               227700     1.12  2021-03-31 00:00:00                      13F   \n",
       "...                ...      ...                  ...                      ...   \n",
       "14903                -        0  2021-04-30 00:00:00  Aggregated Mutual Funds   \n",
       "14904                -        0  2020-08-31 00:00:00  Aggregated Mutual Funds   \n",
       "14905                -        0  2020-08-31 00:00:00  Aggregated Mutual Funds   \n",
       "14906                -        0  2020-09-30 00:00:00  Aggregated Mutual Funds   \n",
       "14907                -        0  2020-03-31 00:00:00  Aggregated Mutual Funds   \n",
       "\n",
       "34    Funds                    Region      Headquarters Country  \\\n",
       "0       191  United States and Canada  United States of America   \n",
       "1       217  United States and Canada  United States of America   \n",
       "2       178  United States and Canada  United States of America   \n",
       "3       164  United States and Canada  United States of America   \n",
       "4       177  United States and Canada  United States of America   \n",
       "...     ...                       ...                       ...   \n",
       "14903     6            Asia / Pacific                Hong Kong    \n",
       "14904     1                    Europe            United Kingdom   \n",
       "14905     1                    Europe            United Kingdom   \n",
       "14906     1                    Europe               Switzerland   \n",
       "14907     1                    Europe            United Kingdom   \n",
       "\n",
       "34                     Sector                              Primary Industry  \n",
       "0      Information Technology  Technology Hardware, Storage and Peripherals  \n",
       "1      Information Technology                              Systems Software  \n",
       "2      Consumer Discretionary          Internet and Direct Marketing Retail  \n",
       "3      Communication Services                Interactive Media and Services  \n",
       "4      Communication Services                Interactive Media and Services  \n",
       "...                       ...                                           ...  \n",
       "14903               Materials                 Diversified Metals and Mining  \n",
       "14904  Consumer Discretionary          Internet and Direct Marketing Retail  \n",
       "14905  Consumer Discretionary          Internet and Direct Marketing Retail  \n",
       "14906               Materials                                         Steel  \n",
       "14907              Financials                                Regional Banks  \n",
       "\n",
       "[14908 rows x 16 columns]"
      ],
      "text/html": "<div>\n<style scoped>\n    .dataframe tbody tr th:only-of-type {\n        vertical-align: middle;\n    }\n\n    .dataframe tbody tr th {\n        vertical-align: top;\n    }\n\n    .dataframe thead th {\n        text-align: right;\n    }\n</style>\n<table border=\"1\" class=\"dataframe\">\n  <thead>\n    <tr style=\"text-align: right;\">\n      <th>34</th>\n      <th>Company Name</th>\n      <th>Exchange:\\nTicker</th>\n      <th>Security Type</th>\n      <th>Shares</th>\n      <th>% Of CSO</th>\n      <th>% Of Equity</th>\n      <th>Market Value (USD in mm)</th>\n      <th>Change in Shares</th>\n      <th>% Change</th>\n      <th>Position Date</th>\n      <th>Source</th>\n      <th>Funds</th>\n      <th>Region</th>\n      <th>Headquarters Country</th>\n      <th>Sector</th>\n      <th>Primary Industry</th>\n    </tr>\n  </thead>\n  <tbody>\n    <tr>\n      <th>0</th>\n      <td>Apple Inc.</td>\n      <td>NasdaqGS:AAPL</td>\n      <td>Common Stock</td>\n      <td>1055005602</td>\n      <td>6.322</td>\n      <td>2.74</td>\n      <td>129523</td>\n      <td>-1455684</td>\n      <td>-0.14</td>\n      <td>2021-03-31 00:00:00</td>\n      <td>13F</td>\n      <td>191</td>\n      <td>United States and Canada</td>\n      <td>United States of America</td>\n      <td>Information Technology</td>\n      <td>Technology Hardware, Storage and Peripherals</td>\n    </tr>\n    <tr>\n      <th>1</th>\n      <td>Microsoft Corporation</td>\n      <td>NasdaqGS:MSFT</td>\n      <td>Common Stock</td>\n      <td>518649291</td>\n      <td>6.886</td>\n      <td>2.62</td>\n      <td>123957</td>\n      <td>3140112</td>\n      <td>0.61</td>\n      <td>2021-03-31 00:00:00</td>\n      <td>13F</td>\n      <td>217</td>\n      <td>United States and Canada</td>\n      <td>United States of America</td>\n      <td>Information Technology</td>\n      <td>Systems Software</td>\n    </tr>\n    <tr>\n      <th>2</th>\n      <td>Amazon.com, Inc.</td>\n      <td>NasdaqGS:AMZN</td>\n      <td>Common Stock</td>\n      <td>28012846</td>\n      <td>5.555</td>\n      <td>1.87</td>\n      <td>88294.8</td>\n      <td>488097</td>\n      <td>1.77</td>\n      <td>2021-03-31 00:00:00</td>\n      <td>13F</td>\n      <td>178</td>\n      <td>United States and Canada</td>\n      <td>United States of America</td>\n      <td>Consumer Discretionary</td>\n      <td>Internet and Direct Marketing Retail</td>\n    </tr>\n    <tr>\n      <th>3</th>\n      <td>Facebook, Inc.</td>\n      <td>NasdaqGS:FB</td>\n      <td>Common Stock</td>\n      <td>157946327</td>\n      <td>6.592</td>\n      <td>1.01</td>\n      <td>47786.7</td>\n      <td>-1709004</td>\n      <td>-1.07</td>\n      <td>2021-03-31 00:00:00</td>\n      <td>13F</td>\n      <td>164</td>\n      <td>United States and Canada</td>\n      <td>United States of America</td>\n      <td>Communication Services</td>\n      <td>Interactive Media and Services</td>\n    </tr>\n    <tr>\n      <th>4</th>\n      <td>Alphabet Inc.</td>\n      <td>NasdaqGS:GOOG.L</td>\n      <td>Common Stock</td>\n      <td>20560019</td>\n      <td>6.836</td>\n      <td>0.96</td>\n      <td>45237.2</td>\n      <td>227700</td>\n      <td>1.12</td>\n      <td>2021-03-31 00:00:00</td>\n      <td>13F</td>\n      <td>177</td>\n      <td>United States and Canada</td>\n      <td>United States of America</td>\n      <td>Communication Services</td>\n      <td>Interactive Media and Services</td>\n    </tr>\n    <tr>\n      <th>...</th>\n      <td>...</td>\n      <td>...</td>\n      <td>...</td>\n      <td>...</td>\n      <td>...</td>\n      <td>...</td>\n      <td>...</td>\n      <td>...</td>\n      <td>...</td>\n      <td>...</td>\n      <td>...</td>\n      <td>...</td>\n      <td>...</td>\n      <td>...</td>\n      <td>...</td>\n      <td>...</td>\n    </tr>\n    <tr>\n      <th>14903</th>\n      <td>China Metal Recycling Holdings Ltd</td>\n      <td>SEHK:773 (Inactive)</td>\n      <td>Common Stock</td>\n      <td>481200</td>\n      <td>0.041</td>\n      <td>-</td>\n      <td>-</td>\n      <td>-</td>\n      <td>0</td>\n      <td>2021-04-30 00:00:00</td>\n      <td>Aggregated Mutual Funds</td>\n      <td>6</td>\n      <td>Asia / Pacific</td>\n      <td>Hong Kong</td>\n      <td>Materials</td>\n      <td>Diversified Metals and Mining</td>\n    </tr>\n    <tr>\n      <th>14904</th>\n      <td>The Hut.com Ltd.</td>\n      <td>UNQ - A2 Common Stock</td>\n      <td>Common Stock</td>\n      <td>98169</td>\n      <td>-</td>\n      <td>-</td>\n      <td>-</td>\n      <td>-</td>\n      <td>0</td>\n      <td>2020-08-31 00:00:00</td>\n      <td>Aggregated Mutual Funds</td>\n      <td>1</td>\n      <td>Europe</td>\n      <td>United Kingdom</td>\n      <td>Consumer Discretionary</td>\n      <td>Internet and Direct Marketing Retail</td>\n    </tr>\n    <tr>\n      <th>14905</th>\n      <td>The Hut.com Ltd.</td>\n      <td>UNQ - COM</td>\n      <td>Common Stock</td>\n      <td>3430</td>\n      <td>-</td>\n      <td>-</td>\n      <td>-</td>\n      <td>-</td>\n      <td>0</td>\n      <td>2020-08-31 00:00:00</td>\n      <td>Aggregated Mutual Funds</td>\n      <td>1</td>\n      <td>Europe</td>\n      <td>United Kingdom</td>\n      <td>Consumer Discretionary</td>\n      <td>Internet and Direct Marketing Retail</td>\n    </tr>\n    <tr>\n      <th>14906</th>\n      <td>FF Group AG</td>\n      <td>Namen-Akt.</td>\n      <td>Common Stock</td>\n      <td>8203</td>\n      <td>-</td>\n      <td>-</td>\n      <td>-</td>\n      <td>-</td>\n      <td>0</td>\n      <td>2020-09-30 00:00:00</td>\n      <td>Aggregated Mutual Funds</td>\n      <td>1</td>\n      <td>Europe</td>\n      <td>Switzerland</td>\n      <td>Materials</td>\n      <td>Steel</td>\n    </tr>\n    <tr>\n      <th>14907</th>\n      <td>Atom Bank plc</td>\n      <td>UNQ - Common Stock</td>\n      <td>Common Stock</td>\n      <td>11802229</td>\n      <td>-</td>\n      <td>-</td>\n      <td>-</td>\n      <td>-</td>\n      <td>0</td>\n      <td>2020-03-31 00:00:00</td>\n      <td>Aggregated Mutual Funds</td>\n      <td>1</td>\n      <td>Europe</td>\n      <td>United Kingdom</td>\n      <td>Financials</td>\n      <td>Regional Banks</td>\n    </tr>\n  </tbody>\n</table>\n<p>14908 rows × 16 columns</p>\n</div>"
     },
     "metadata": {},
     "execution_count": 3
    }
   ],
   "source": [
    "df"
   ]
  },
  {
   "cell_type": "code",
   "execution_count": null,
   "metadata": {},
   "outputs": [],
   "source": []
  }
 ],
 "metadata": {
  "kernelspec": {
   "display_name": "Python 3",
   "language": "python",
   "name": "python3"
  },
  "language_info": {
   "codemirror_mode": {
    "name": "ipython",
    "version": 3
   },
   "file_extension": ".py",
   "mimetype": "text/x-python",
   "name": "python",
   "nbconvert_exporter": "python",
   "pygments_lexer": "ipython3",
   "version": "3.8.0"
  }
 },
 "nbformat": 4,
 "nbformat_minor": 4
}