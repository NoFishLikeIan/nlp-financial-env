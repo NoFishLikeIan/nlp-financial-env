{
 "cells": [
  {
   "cell_type": "code",
   "execution_count": 1,
   "source": [
    "import esg"
   ],
   "outputs": [],
   "metadata": {}
  },
  {
   "cell_type": "code",
   "execution_count": 2,
   "source": [
    "import pandas as pd"
   ],
   "outputs": [],
   "metadata": {}
  },
  {
   "cell_type": "code",
   "execution_count": 5,
   "source": [
    "import dotenv, os\n",
    "\n",
    "dotenv.load_dotenv()\n",
    "\n",
    "data_path = os.path.join(\"..\", os.environ.get(\"DATA_PATH\"), \"ESG.xlsx\")\n",
    "sheet_name = os.environ.get(\"SHEET_NAME\")\n",
    "\n",
    "raw = pd.read_excel(data_path, sheet_name = sheet_name)\n",
    "\n",
    "construct_data = esg.get_esg_by_year(raw)"
   ],
   "outputs": [],
   "metadata": {}
  },
  {
   "cell_type": "code",
   "execution_count": 4,
   "source": [
    "construct_data = esg.get_esg_by_year(raw)"
   ],
   "outputs": [],
   "metadata": {}
  },
  {
   "cell_type": "code",
   "execution_count": null,
   "source": [],
   "outputs": [],
   "metadata": {}
  }
 ],
 "metadata": {
  "orig_nbformat": 4,
  "language_info": {
   "name": "python",
   "version": "3.8.9",
   "mimetype": "text/x-python",
   "codemirror_mode": {
    "name": "ipython",
    "version": 3
   },
   "pygments_lexer": "ipython3",
   "nbconvert_exporter": "python",
   "file_extension": ".py"
  },
  "kernelspec": {
   "name": "python3",
   "display_name": "Python 3.8.9 64-bit ('.venv': venv)"
  },
  "interpreter": {
   "hash": "7b46fb511bc59a61e2cf0fe05a56a1bcd3e13c2b34c73d026e34adf315775514"
  }
 },
 "nbformat": 4,
 "nbformat_minor": 2
}