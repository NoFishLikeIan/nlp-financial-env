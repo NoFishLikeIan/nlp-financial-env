{
 "cells": [
  {
   "cell_type": "markdown",
   "source": [
    "# Setup"
   ],
   "metadata": {}
  },
  {
   "cell_type": "code",
   "execution_count": 1,
   "source": [
    "from utils import esg\n",
    "from utils.ownership import parse_ownership_data\n",
    "from utils.regressors import parse_regressors"
   ],
   "outputs": [],
   "metadata": {}
  },
  {
   "cell_type": "code",
   "execution_count": 2,
   "source": [
    "import seaborn as sns\n",
    "\n",
    "sns.set(style=\"white\",\n",
    "        palette=\"pastel\",\n",
    "        color_codes=True,\n",
    "        rc={'figure.figsize': (12, 9) })"
   ],
   "outputs": [],
   "metadata": {}
  },
  {
   "cell_type": "code",
   "execution_count": 3,
   "source": [
    "import pandas as pd\n",
    "import statsmodels.api as sm"
   ],
   "outputs": [],
   "metadata": {}
  },
  {
   "cell_type": "markdown",
   "source": [
    "# Importing data"
   ],
   "metadata": {}
  },
  {
   "cell_type": "code",
   "execution_count": 4,
   "source": [
    "import dotenv, os\n",
    "\n",
    "dotenv.load_dotenv()\n",
    "\n",
    "data_path = os.path.join(\"..\", os.environ.get(\"DATA_PATH\"))\n",
    "\n",
    "esg_path = os.path.join(data_path, \"ESG.xlsx\")\n",
    "sheet_name = os.environ.get(\"SHEET_NAME\")\n",
    "\n",
    "own_path = os.path.join(data_path, \"ownership.csv\")\n",
    "reg_path = os.path.join(data_path, \"controls.csv\")\n",
    "\n",
    "saliency_path = os.path.join(data_path, \"saliency.csv\")"
   ],
   "outputs": [],
   "metadata": {}
  },
  {
   "cell_type": "markdown",
   "source": [
    "## Covariates"
   ],
   "metadata": {}
  },
  {
   "cell_type": "code",
   "execution_count": 5,
   "source": [
    "raw = pd.read_csv(reg_path)\n",
    "covariates = parse_regressors(raw)"
   ],
   "outputs": [],
   "metadata": {}
  },
  {
   "cell_type": "markdown",
   "source": [
    "## ESG data"
   ],
   "metadata": {}
  },
  {
   "cell_type": "code",
   "execution_count": 6,
   "source": [
    "raw = pd.read_excel(esg_path, sheet_name = sheet_name)\n",
    "get_esg = esg.yearly_esg_maker(raw)"
   ],
   "outputs": [],
   "metadata": {}
  },
  {
   "cell_type": "markdown",
   "source": [
    "## Ownership data"
   ],
   "metadata": {}
  },
  {
   "cell_type": "code",
   "execution_count": 7,
   "source": [
    "ownership = parse_ownership_data(pd.read_csv(own_path))\n",
    "investors = ownership.columns[-7:]"
   ],
   "outputs": [],
   "metadata": {}
  },
  {
   "cell_type": "code",
   "execution_count": 8,
   "source": [
    "ticker_to_name = dict(zip(ownership.TargetFirms, ownership.Tickers))"
   ],
   "outputs": [],
   "metadata": {}
  },
  {
   "cell_type": "markdown",
   "source": [
    "## Saliency data"
   ],
   "metadata": {}
  },
  {
   "cell_type": "code",
   "execution_count": 9,
   "source": [
    "saliency_df = pd.read_csv(saliency_path, index_col = [0, 1])"
   ],
   "outputs": [],
   "metadata": {}
  },
  {
   "cell_type": "markdown",
   "source": [
    "# Regression"
   ],
   "metadata": {}
  },
  {
   "cell_type": "code",
   "execution_count": 10,
   "source": [
    "def makeregressors(\n",
    "    saliency_df, ownership, covariates, index, report):\n",
    "    \n",
    "    S = saliency_df.loc[report, index]\n",
    "    companies = ownership.columns[-7:]\n",
    "    X = ownership[companies]\n",
    "    X.columns = [f\"{company} ownership\".lower() for company in companies]\n",
    "    X.index = ownership['Tickers']\n",
    "\n",
    "    for company in S.index:\n",
    "        column_name = f\"{company} {report.lower()}\"\n",
    "        X.loc[:, f\"{column_name} interaction\"] = X[f\"{company} ownership\"] * S[company] \n",
    "    \n",
    "    X = sm.add_constant(X, prepend = False, has_constant='add')\n",
    "\n",
    "    common_indices = set(X.index).intersection(covariates.index)\n",
    "\n",
    "    X = pd.concat([X.loc[common_indices], covariates.loc[common_indices]], axis = 1)\n",
    "\n",
    "    return X"
   ],
   "outputs": [],
   "metadata": {}
  },
  {
   "cell_type": "code",
   "execution_count": 11,
   "source": [
    "X = makeregressors(saliency_df, ownership, covariates, \"s-index\", \"STEWARDSHIP_POLICY\").dropna()"
   ],
   "outputs": [
    {
     "output_type": "stream",
     "name": "stderr",
     "text": [
      "/Users/andreatitton/economics/nlp-financial-env/.venv/lib/python3.8/site-packages/pandas/core/indexing.py:1667: SettingWithCopyWarning: \n",
      "A value is trying to be set on a copy of a slice from a DataFrame.\n",
      "Try using .loc[row_indexer,col_indexer] = value instead\n",
      "\n",
      "See the caveats in the documentation: https://pandas.pydata.org/pandas-docs/stable/user_guide/indexing.html#returning-a-view-versus-a-copy\n",
      "  self.obj[key] = value\n"
     ]
    }
   ],
   "metadata": {}
  },
  {
   "cell_type": "code",
   "execution_count": 12,
   "source": [
    "y = get_esg(2020)[\"ESG Combined Score\"] / 100\n",
    "y.index = [ticker_to_name.get(f, f) for f in  y.index]\n",
    "common_indices = set(y.index).intersection(set(X.index))\n",
    "\n",
    "y = y.loc[common_indices]\n",
    "X = X.loc[common_indices]"
   ],
   "outputs": [],
   "metadata": {}
  },
  {
   "cell_type": "code",
   "execution_count": 13,
   "source": [
    "model = sm.RLM(y, X, M=sm.robust.norms.HuberT())"
   ],
   "outputs": [],
   "metadata": {}
  },
  {
   "cell_type": "code",
   "execution_count": 14,
   "source": [
    "model.fit().summary()"
   ],
   "outputs": [
    {
     "output_type": "execute_result",
     "data": {
      "text/html": [
       "<table class=\"simpletable\">\n",
       "<caption>Robust linear Model Regression Results</caption>\n",
       "<tr>\n",
       "  <th>Dep. Variable:</th>  <td>ESG Combined Score</td> <th>  No. Observations:  </th> <td>  2096</td>\n",
       "</tr>\n",
       "<tr>\n",
       "  <th>Model:</th>                  <td>RLM</td>        <th>  Df Residuals:      </th> <td>  2073</td>\n",
       "</tr>\n",
       "<tr>\n",
       "  <th>Method:</th>                <td>IRLS</td>        <th>  Df Model:          </th> <td>    22</td>\n",
       "</tr>\n",
       "<tr>\n",
       "  <th>Norm:</th>                 <td>HuberT</td>       <th>                     </th>    <td> </td>  \n",
       "</tr>\n",
       "<tr>\n",
       "  <th>Scale Est.:</th>             <td>mad</td>        <th>                     </th>    <td> </td>  \n",
       "</tr>\n",
       "<tr>\n",
       "  <th>Cov Type:</th>               <td>H1</td>         <th>                     </th>    <td> </td>  \n",
       "</tr>\n",
       "<tr>\n",
       "  <th>Date:</th>            <td>Fri, 26 Nov 2021</td>  <th>                     </th>    <td> </td>  \n",
       "</tr>\n",
       "<tr>\n",
       "  <th>Time:</th>                <td>10:39:55</td>      <th>                     </th>    <td> </td>  \n",
       "</tr>\n",
       "<tr>\n",
       "  <th>No. Iterations:</th>         <td>50</td>         <th>                     </th>    <td> </td>  \n",
       "</tr>\n",
       "</table>\n",
       "<table class=\"simpletable\">\n",
       "<tr>\n",
       "                      <td></td>                        <th>coef</th>     <th>std err</th>      <th>z</th>      <th>P>|z|</th>  <th>[0.025</th>    <th>0.975]</th>  \n",
       "</tr>\n",
       "<tr>\n",
       "  <th>nn ownership</th>                             <td>    1.4596</td> <td>    1.760</td> <td>    0.829</td> <td> 0.407</td> <td>   -1.990</td> <td>    4.910</td>\n",
       "</tr>\n",
       "<tr>\n",
       "  <th>blackrock ownership</th>                      <td>   -0.4320</td> <td>    0.102</td> <td>   -4.218</td> <td> 0.000</td> <td>   -0.633</td> <td>   -0.231</td>\n",
       "</tr>\n",
       "<tr>\n",
       "  <th>nbim ownership</th>                           <td>    5.8470</td> <td>    0.340</td> <td>   17.206</td> <td> 0.000</td> <td>    5.181</td> <td>    6.513</td>\n",
       "</tr>\n",
       "<tr>\n",
       "  <th>generali ownership</th>                       <td>  222.6128</td> <td>   83.531</td> <td>    2.665</td> <td> 0.008</td> <td>   58.895</td> <td>  386.330</td>\n",
       "</tr>\n",
       "<tr>\n",
       "  <th>jpmam ownership</th>                          <td>    0.5367</td> <td>    0.590</td> <td>    0.910</td> <td> 0.363</td> <td>   -0.619</td> <td>    1.693</td>\n",
       "</tr>\n",
       "<tr>\n",
       "  <th>apg ownership</th>                            <td>    1.0048</td> <td>    3.873</td> <td>    0.259</td> <td> 0.795</td> <td>   -6.586</td> <td>    8.595</td>\n",
       "</tr>\n",
       "<tr>\n",
       "  <th>dws ownership</th>                            <td>    3.7001</td> <td>    1.235</td> <td>    2.997</td> <td> 0.003</td> <td>    1.280</td> <td>    6.120</td>\n",
       "</tr>\n",
       "<tr>\n",
       "  <th>blackrock stewardship_policy interaction</th> <td>   -0.0076</td> <td>    0.002</td> <td>   -4.221</td> <td> 0.000</td> <td>   -0.011</td> <td>   -0.004</td>\n",
       "</tr>\n",
       "<tr>\n",
       "  <th>dws stewardship_policy interaction</th>       <td>    0.0205</td> <td>    0.007</td> <td>    2.997</td> <td> 0.003</td> <td>    0.007</td> <td>    0.034</td>\n",
       "</tr>\n",
       "<tr>\n",
       "  <th>generali stewardship_policy interaction</th>  <td>    1.3404</td> <td>    0.503</td> <td>    2.665</td> <td> 0.008</td> <td>    0.355</td> <td>    2.326</td>\n",
       "</tr>\n",
       "<tr>\n",
       "  <th>jpmam stewardship_policy interaction</th>     <td>    0.0059</td> <td>    0.006</td> <td>    0.910</td> <td> 0.363</td> <td>   -0.007</td> <td>    0.018</td>\n",
       "</tr>\n",
       "<tr>\n",
       "  <th>nn stewardship_policy interaction</th>        <td>    0.0094</td> <td>    0.011</td> <td>    0.829</td> <td> 0.407</td> <td>   -0.013</td> <td>    0.032</td>\n",
       "</tr>\n",
       "<tr>\n",
       "  <th>apg stewardship_policy interaction</th>       <td>    0.0095</td> <td>    0.037</td> <td>    0.259</td> <td> 0.795</td> <td>   -0.062</td> <td>    0.081</td>\n",
       "</tr>\n",
       "<tr>\n",
       "  <th>nbim stewardship_policy interaction</th>      <td>    0.0384</td> <td>    0.002</td> <td>   17.207</td> <td> 0.000</td> <td>    0.034</td> <td>    0.043</td>\n",
       "</tr>\n",
       "<tr>\n",
       "  <th>const</th>                                    <td>    0.3517</td> <td>    0.008</td> <td>   46.751</td> <td> 0.000</td> <td>    0.337</td> <td>    0.366</td>\n",
       "</tr>\n",
       "<tr>\n",
       "  <th>Leverage Ratio-2016</th>                      <td>-1.017e-05</td> <td>    0.000</td> <td>   -0.025</td> <td> 0.980</td> <td>   -0.001</td> <td>    0.001</td>\n",
       "</tr>\n",
       "<tr>\n",
       "  <th>Total Debt-2016</th>                          <td> 3.225e-08</td> <td> 3.32e-08</td> <td>    0.971</td> <td> 0.332</td> <td>-3.28e-08</td> <td> 9.73e-08</td>\n",
       "</tr>\n",
       "<tr>\n",
       "  <th>Total Assets (Assets Value)-2016</th>         <td>-1.844e-08</td> <td>  1.5e-08</td> <td>   -1.228</td> <td> 0.220</td> <td>-4.79e-08</td> <td>  1.1e-08</td>\n",
       "</tr>\n",
       "<tr>\n",
       "  <th>ROA-2016</th>                                 <td>    0.0003</td> <td>    0.000</td> <td>    1.358</td> <td> 0.175</td> <td>   -0.000</td> <td>    0.001</td>\n",
       "</tr>\n",
       "<tr>\n",
       "  <th>PPE-2016</th>                                 <td> 2.163e-07</td> <td> 1.48e-07</td> <td>    1.464</td> <td> 0.143</td> <td>-7.32e-08</td> <td> 5.06e-07</td>\n",
       "</tr>\n",
       "<tr>\n",
       "  <th>Leverage Ratio-2017</th>                      <td>   -0.0003</td> <td>    0.001</td> <td>   -0.447</td> <td> 0.655</td> <td>   -0.002</td> <td>    0.001</td>\n",
       "</tr>\n",
       "<tr>\n",
       "  <th>Total Debt-2017</th>                          <td>-2.063e-08</td> <td> 4.78e-08</td> <td>   -0.432</td> <td> 0.666</td> <td>-1.14e-07</td> <td> 7.31e-08</td>\n",
       "</tr>\n",
       "<tr>\n",
       "  <th>Total Assets (Assets Value)-2017</th>         <td> 1.784e-08</td> <td> 1.74e-08</td> <td>    1.025</td> <td> 0.305</td> <td>-1.63e-08</td> <td>  5.2e-08</td>\n",
       "</tr>\n",
       "<tr>\n",
       "  <th>ROA-2017</th>                                 <td>    0.0007</td> <td>    0.000</td> <td>    2.314</td> <td> 0.021</td> <td>    0.000</td> <td>    0.001</td>\n",
       "</tr>\n",
       "<tr>\n",
       "  <th>PPE-2017</th>                                 <td>-2.415e-07</td> <td> 1.72e-07</td> <td>   -1.402</td> <td> 0.161</td> <td>-5.79e-07</td> <td>  9.6e-08</td>\n",
       "</tr>\n",
       "<tr>\n",
       "  <th>Leverage Ratio-2018</th>                      <td>    0.0009</td> <td>    0.000</td> <td>    1.907</td> <td> 0.057</td> <td>-2.62e-05</td> <td>    0.002</td>\n",
       "</tr>\n",
       "<tr>\n",
       "  <th>Total Debt-2018</th>                          <td>-1.533e-08</td> <td>  2.7e-08</td> <td>   -0.568</td> <td> 0.570</td> <td>-6.82e-08</td> <td> 3.75e-08</td>\n",
       "</tr>\n",
       "<tr>\n",
       "  <th>Total Assets (Assets Value)-2018</th>         <td>  1.29e-09</td> <td>  8.2e-09</td> <td>    0.157</td> <td> 0.875</td> <td>-1.48e-08</td> <td> 1.74e-08</td>\n",
       "</tr>\n",
       "<tr>\n",
       "  <th>ROA-2018</th>                                 <td>    0.0007</td> <td>    0.000</td> <td>    2.112</td> <td> 0.035</td> <td> 5.38e-05</td> <td>    0.001</td>\n",
       "</tr>\n",
       "<tr>\n",
       "  <th>PPE-2018</th>                                 <td> 5.202e-08</td> <td> 4.55e-08</td> <td>    1.144</td> <td> 0.253</td> <td>-3.71e-08</td> <td> 1.41e-07</td>\n",
       "</tr>\n",
       "</table><br/><br/>If the model instance has been used for another fit with different fit parameters, then the fit options might not be the correct ones anymore ."
      ],
      "text/plain": [
       "<class 'statsmodels.iolib.summary.Summary'>\n",
       "\"\"\"\n",
       "                    Robust linear Model Regression Results                    \n",
       "==============================================================================\n",
       "Dep. Variable:     ESG Combined Score   No. Observations:                 2096\n",
       "Model:                            RLM   Df Residuals:                     2073\n",
       "Method:                          IRLS   Df Model:                           22\n",
       "Norm:                          HuberT                                         \n",
       "Scale Est.:                       mad                                         \n",
       "Cov Type:                          H1                                         \n",
       "Date:                Fri, 26 Nov 2021                                         \n",
       "Time:                        10:39:55                                         \n",
       "No. Iterations:                    50                                         \n",
       "============================================================================================================\n",
       "                                               coef    std err          z      P>|z|      [0.025      0.975]\n",
       "------------------------------------------------------------------------------------------------------------\n",
       "nn ownership                                 1.4596      1.760      0.829      0.407      -1.990       4.910\n",
       "blackrock ownership                         -0.4320      0.102     -4.218      0.000      -0.633      -0.231\n",
       "nbim ownership                               5.8470      0.340     17.206      0.000       5.181       6.513\n",
       "generali ownership                         222.6128     83.531      2.665      0.008      58.895     386.330\n",
       "jpmam ownership                              0.5367      0.590      0.910      0.363      -0.619       1.693\n",
       "apg ownership                                1.0048      3.873      0.259      0.795      -6.586       8.595\n",
       "dws ownership                                3.7001      1.235      2.997      0.003       1.280       6.120\n",
       "blackrock stewardship_policy interaction    -0.0076      0.002     -4.221      0.000      -0.011      -0.004\n",
       "dws stewardship_policy interaction           0.0205      0.007      2.997      0.003       0.007       0.034\n",
       "generali stewardship_policy interaction      1.3404      0.503      2.665      0.008       0.355       2.326\n",
       "jpmam stewardship_policy interaction         0.0059      0.006      0.910      0.363      -0.007       0.018\n",
       "nn stewardship_policy interaction            0.0094      0.011      0.829      0.407      -0.013       0.032\n",
       "apg stewardship_policy interaction           0.0095      0.037      0.259      0.795      -0.062       0.081\n",
       "nbim stewardship_policy interaction          0.0384      0.002     17.207      0.000       0.034       0.043\n",
       "const                                        0.3517      0.008     46.751      0.000       0.337       0.366\n",
       "Leverage Ratio-2016                      -1.017e-05      0.000     -0.025      0.980      -0.001       0.001\n",
       "Total Debt-2016                           3.225e-08   3.32e-08      0.971      0.332   -3.28e-08    9.73e-08\n",
       "Total Assets (Assets Value)-2016         -1.844e-08    1.5e-08     -1.228      0.220   -4.79e-08     1.1e-08\n",
       "ROA-2016                                     0.0003      0.000      1.358      0.175      -0.000       0.001\n",
       "PPE-2016                                  2.163e-07   1.48e-07      1.464      0.143   -7.32e-08    5.06e-07\n",
       "Leverage Ratio-2017                         -0.0003      0.001     -0.447      0.655      -0.002       0.001\n",
       "Total Debt-2017                          -2.063e-08   4.78e-08     -0.432      0.666   -1.14e-07    7.31e-08\n",
       "Total Assets (Assets Value)-2017          1.784e-08   1.74e-08      1.025      0.305   -1.63e-08     5.2e-08\n",
       "ROA-2017                                     0.0007      0.000      2.314      0.021       0.000       0.001\n",
       "PPE-2017                                 -2.415e-07   1.72e-07     -1.402      0.161   -5.79e-07     9.6e-08\n",
       "Leverage Ratio-2018                          0.0009      0.000      1.907      0.057   -2.62e-05       0.002\n",
       "Total Debt-2018                          -1.533e-08    2.7e-08     -0.568      0.570   -6.82e-08    3.75e-08\n",
       "Total Assets (Assets Value)-2018           1.29e-09    8.2e-09      0.157      0.875   -1.48e-08    1.74e-08\n",
       "ROA-2018                                     0.0007      0.000      2.112      0.035    5.38e-05       0.001\n",
       "PPE-2018                                  5.202e-08   4.55e-08      1.144      0.253   -3.71e-08    1.41e-07\n",
       "============================================================================================================\n",
       "\n",
       "If the model instance has been used for another fit with different fit parameters, then the fit options might not be the correct ones anymore .\n",
       "\"\"\""
      ]
     },
     "metadata": {},
     "execution_count": 14
    }
   ],
   "metadata": {}
  },
  {
   "cell_type": "code",
   "execution_count": null,
   "source": [],
   "outputs": [],
   "metadata": {}
  }
 ],
 "metadata": {
  "orig_nbformat": 4,
  "language_info": {
   "name": "python",
   "version": "3.8.9",
   "mimetype": "text/x-python",
   "codemirror_mode": {
    "name": "ipython",
    "version": 3
   },
   "pygments_lexer": "ipython3",
   "nbconvert_exporter": "python",
   "file_extension": ".py"
  },
  "kernelspec": {
   "name": "python3",
   "display_name": "Python 3.8.9 64-bit ('.venv': venv)"
  },
  "interpreter": {
   "hash": "7b46fb511bc59a61e2cf0fe05a56a1bcd3e13c2b34c73d026e34adf315775514"
  }
 },
 "nbformat": 4,
 "nbformat_minor": 2
}