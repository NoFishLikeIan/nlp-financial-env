{
 "cells": [
  {
   "cell_type": "markdown",
   "source": [
    "# Setup"
   ],
   "metadata": {}
  },
  {
   "cell_type": "code",
   "execution_count": 2,
   "source": [
    "from utils import esg\n",
    "from utils.ownership import parse_ownership_data\n",
    "from utils.regressors import parse_regressors"
   ],
   "outputs": [],
   "metadata": {}
  },
  {
   "cell_type": "code",
   "execution_count": 3,
   "source": [
    "import matplotlib.pyplot as plt\n",
    "import seaborn as sns\n",
    "\n",
    "sns.set(style=\"white\",\n",
    "        palette=\"pastel\",\n",
    "        color_codes=True,\n",
    "        rc={ 'figure.figsize': (12, 9) })"
   ],
   "outputs": [],
   "metadata": {}
  },
  {
   "cell_type": "code",
   "execution_count": 4,
   "source": [
    "import pandas as pd\n",
    "import numpy as np\n",
    "import statsmodels.api as sm\n",
    "import collections"
   ],
   "outputs": [],
   "metadata": {}
  },
  {
   "cell_type": "markdown",
   "source": [
    "# Importing data"
   ],
   "metadata": {}
  },
  {
   "cell_type": "code",
   "execution_count": 5,
   "source": [
    "import dotenv, os\n",
    "\n",
    "dotenv.load_dotenv()\n",
    "\n",
    "data_path = os.path.join(\"..\", os.environ.get(\"DATA_PATH\"))\n",
    "\n",
    "esg_path = os.path.join(data_path, \"ESG.xlsx\")\n",
    "sheet_name = os.environ.get(\"SHEET_NAME\")\n",
    "\n",
    "own_path = os.path.join(data_path, \"ownership.csv\")\n",
    "reg_path = os.path.join(data_path, \"controls.csv\")\n",
    "\n",
    "saliency_path = os.path.join(data_path, \"saliency.csv\")"
   ],
   "outputs": [],
   "metadata": {}
  },
  {
   "cell_type": "markdown",
   "source": [
    "## Covariates"
   ],
   "metadata": {}
  },
  {
   "cell_type": "code",
   "execution_count": 6,
   "source": [
    "raw = pd.read_csv(reg_path)\n",
    "covariates = parse_regressors(raw)"
   ],
   "outputs": [],
   "metadata": {}
  },
  {
   "cell_type": "markdown",
   "source": [
    "## ESG data"
   ],
   "metadata": {}
  },
  {
   "cell_type": "code",
   "execution_count": 7,
   "source": [
    "raw = pd.read_excel(esg_path, sheet_name = sheet_name)\n",
    "get_esg = esg.yearly_esg_maker(raw)"
   ],
   "outputs": [],
   "metadata": {}
  },
  {
   "cell_type": "markdown",
   "source": [
    "## Ownership data"
   ],
   "metadata": {}
  },
  {
   "cell_type": "code",
   "execution_count": 8,
   "source": [
    "ownership = parse_ownership_data(pd.read_csv(own_path))\n",
    "investors = ownership.columns[-7:]"
   ],
   "outputs": [],
   "metadata": {}
  },
  {
   "cell_type": "code",
   "execution_count": 9,
   "source": [
    "ticker_to_name = dict(zip(ownership.TargetFirms, ownership.Tickers))"
   ],
   "outputs": [],
   "metadata": {}
  },
  {
   "cell_type": "markdown",
   "source": [
    "## Saliency data"
   ],
   "metadata": {}
  },
  {
   "cell_type": "code",
   "execution_count": 78,
   "source": [
    "saliency_df = pd.read_csv(saliency_path, index_col = [0, 1])"
   ],
   "outputs": [],
   "metadata": {}
  },
  {
   "cell_type": "markdown",
   "source": [
    "# Regression"
   ],
   "metadata": {}
  },
  {
   "cell_type": "code",
   "execution_count": 85,
   "source": [
    "def makeregressors(saliency_df, ownership, covariates):\n",
    "\n",
    "    relevant_covariates = [col for col in covariates.columns if \"Total Assets\" not in col] # Remove redundant coviariate\n",
    "\n",
    "    covariates = covariates[relevant_covariates]\n",
    "    \n",
    "    investors = [inv for inv in ownership.columns[-7:] if inv != \"Generali\"]\n",
    "    total_ownership = ownership.loc[:, investors]\n",
    "    total_ownership.columns = [investor.lower() for investor in investors]\n",
    "    total_ownership.index = ownership['Tickers']\n",
    "\n",
    "    total_saliency = saliency_df.sum()\n",
    "    total_saliency /= total_saliency.sum() \n",
    "    \n",
    "    SIO = []\n",
    "    IO = []\n",
    "\n",
    "    for firm in total_ownership.index:\n",
    "        weighted_ownership = 0\n",
    "        institutional_ownership = 0\n",
    "        \n",
    "        for investor in total_ownership.columns:\n",
    "            weighted_ownership += total_ownership.loc[firm, investor] * total_saliency.loc[investor] \n",
    "            institutional_ownership += total_ownership.loc[firm, investor] / len(investors)\n",
    "\n",
    "        SIO.append(weighted_ownership)\n",
    "        IO.append(institutional_ownership)\n",
    "\n",
    "    X = pd.DataFrame(\n",
    "        {\n",
    "            \"SIO\": SIO,\n",
    "            \"IO\": IO\n",
    "        }, \n",
    "        index = total_ownership.index)\n",
    "\n",
    "\n",
    "    X = sm.add_constant(X, prepend = False, has_constant='add')\n",
    "\n",
    "    common_indices = set(X.index).intersection(set(covariates.index))\n",
    "\n",
    "    X = pd.concat([X.loc[common_indices], covariates.loc[common_indices]], axis = 1)\n",
    "\n",
    "    # FIXME: Some firms have redundant ticker. I exclude them.\n",
    "    single_ticker = [n for (n, c) in collections.Counter(X.index).items() if c == 1]\n",
    "    X = X.loc[single_ticker]\n",
    "\n",
    "    return X.astype(float)"
   ],
   "outputs": [],
   "metadata": {}
  },
  {
   "cell_type": "code",
   "execution_count": 86,
   "source": [
    "X = makeregressors(saliency_df, ownership, covariates).dropna()"
   ],
   "outputs": [],
   "metadata": {}
  },
  {
   "cell_type": "code",
   "execution_count": 87,
   "source": [
    "y = get_esg(2020)[\"Environment Pillar Score\"] / 100\n",
    "y.index = [ticker_to_name.get(f, \"not found\") for f in  y.index]\n",
    "y = y.loc[y > 0]\n",
    "\n",
    "common_indices = set(y.index).intersection(set(X.index))\n",
    "\n",
    "y = y.loc[common_indices]\n",
    "X = X.loc[common_indices]"
   ],
   "outputs": [],
   "metadata": {}
  },
  {
   "cell_type": "code",
   "execution_count": 88,
   "source": [
    "fig, ax = plt.subplots(dpi = 100, figsize = (9, 9))\n",
    "sns.scatterplot(data = X, x = \"IO\", y = \"SIO\", zorder=1, s = 10)\n",
    "\n",
    "ax.plot(ax.get_xlim(), ax.get_ylim(), linestyle = \"dashed\", color = \"black\", zorder=0)"
   ],
   "outputs": [
    {
     "output_type": "execute_result",
     "data": {
      "text/plain": [
       "[<matplotlib.lines.Line2D at 0x134dea820>]"
      ]
     },
     "metadata": {},
     "execution_count": 88
    },
    {
     "output_type": "display_data",
     "data": {
      "image/png": "[encoded data removed]",
      "text/plain": [
       "<Figure size 900x900 with 1 Axes>"
      ]
     },
     "metadata": {}
    }
   ],
   "metadata": {}
  },
  {
   "cell_type": "code",
   "execution_count": 89,
   "source": [
    "sm.Logit(y, X.drop(\"SIO\", axis = 1)).fit().summary()"
   ],
   "outputs": [
    {
     "output_type": "stream",
     "name": "stdout",
     "text": [
      "Optimization terminated successfully.\n",
      "         Current function value: 0.650112\n",
      "         Iterations 6\n"
     ]
    },
    {
     "output_type": "execute_result",
     "data": {
      "text/html": [
       "<table class=\"simpletable\">\n",
       "<caption>Logit Regression Results</caption>\n",
       "<tr>\n",
       "  <th>Dep. Variable:</th>   <td>Environment Pillar Score</td> <th>  No. Observations:  </th>  <td>  1686</td>  \n",
       "</tr>\n",
       "<tr>\n",
       "  <th>Model:</th>                     <td>Logit</td>          <th>  Df Residuals:      </th>  <td>  1670</td>  \n",
       "</tr>\n",
       "<tr>\n",
       "  <th>Method:</th>                     <td>MLE</td>           <th>  Df Model:          </th>  <td>    15</td>  \n",
       "</tr>\n",
       "<tr>\n",
       "  <th>Date:</th>                <td>Thu, 02 Dec 2021</td>     <th>  Pseudo R-squ.:     </th> <td>-0.007015</td>\n",
       "</tr>\n",
       "<tr>\n",
       "  <th>Time:</th>                    <td>12:31:52</td>         <th>  Log-Likelihood:    </th> <td> -1096.1</td> \n",
       "</tr>\n",
       "<tr>\n",
       "  <th>converged:</th>                 <td>True</td>           <th>  LL-Null:           </th> <td> -1088.5</td> \n",
       "</tr>\n",
       "<tr>\n",
       "  <th>Covariance Type:</th>         <td>nonrobust</td>        <th>  LLR p-value:       </th>  <td> 1.000</td>  \n",
       "</tr>\n",
       "</table>\n",
       "<table class=\"simpletable\">\n",
       "<tr>\n",
       "           <td></td>              <th>coef</th>     <th>std err</th>      <th>z</th>      <th>P>|z|</th>  <th>[0.025</th>    <th>0.975]</th>  \n",
       "</tr>\n",
       "<tr>\n",
       "  <th>IO</th>                  <td>  -20.9339</td> <td>    7.077</td> <td>   -2.958</td> <td> 0.003</td> <td>  -34.804</td> <td>   -7.064</td>\n",
       "</tr>\n",
       "<tr>\n",
       "  <th>const</th>               <td>   -0.3461</td> <td>    0.101</td> <td>   -3.439</td> <td> 0.001</td> <td>   -0.543</td> <td>   -0.149</td>\n",
       "</tr>\n",
       "<tr>\n",
       "  <th>Leverage Ratio-2016</th> <td>   -0.0021</td> <td>    0.006</td> <td>   -0.384</td> <td> 0.701</td> <td>   -0.013</td> <td>    0.009</td>\n",
       "</tr>\n",
       "<tr>\n",
       "  <th>Total Debt-2016</th>     <td> 1.068e-07</td> <td> 3.71e-07</td> <td>    0.288</td> <td> 0.774</td> <td>-6.21e-07</td> <td> 8.35e-07</td>\n",
       "</tr>\n",
       "<tr>\n",
       "  <th>ROA-2016</th>            <td>   -0.0008</td> <td>    0.005</td> <td>   -0.166</td> <td> 0.868</td> <td>   -0.011</td> <td>    0.009</td>\n",
       "</tr>\n",
       "<tr>\n",
       "  <th>PPE-2016</th>            <td> 3.494e-06</td> <td> 2.22e-06</td> <td>    1.576</td> <td> 0.115</td> <td>-8.51e-07</td> <td> 7.84e-06</td>\n",
       "</tr>\n",
       "<tr>\n",
       "  <th>Leverage Ratio-2017</th> <td>   -0.0005</td> <td>    0.009</td> <td>   -0.052</td> <td> 0.959</td> <td>   -0.018</td> <td>    0.017</td>\n",
       "</tr>\n",
       "<tr>\n",
       "  <th>Total Debt-2017</th>     <td>-1.447e-07</td> <td> 4.91e-07</td> <td>   -0.295</td> <td> 0.768</td> <td>-1.11e-06</td> <td> 8.18e-07</td>\n",
       "</tr>\n",
       "<tr>\n",
       "  <th>ROA-2017</th>            <td>    0.0076</td> <td>    0.006</td> <td>    1.170</td> <td> 0.242</td> <td>   -0.005</td> <td>    0.020</td>\n",
       "</tr>\n",
       "<tr>\n",
       "  <th>PPE-2017</th>            <td>-2.389e-06</td> <td> 2.63e-06</td> <td>   -0.907</td> <td> 0.365</td> <td>-7.55e-06</td> <td> 2.77e-06</td>\n",
       "</tr>\n",
       "<tr>\n",
       "  <th>Leverage Ratio-2018</th> <td>    0.0045</td> <td>    0.008</td> <td>    0.563</td> <td> 0.574</td> <td>   -0.011</td> <td>    0.020</td>\n",
       "</tr>\n",
       "<tr>\n",
       "  <th>Total Debt-2018</th>     <td> 2.954e-07</td> <td> 4.48e-07</td> <td>    0.659</td> <td> 0.510</td> <td>-5.83e-07</td> <td> 1.17e-06</td>\n",
       "</tr>\n",
       "<tr>\n",
       "  <th>ROA-2018</th>            <td>    0.0039</td> <td>    0.006</td> <td>    0.641</td> <td> 0.521</td> <td>   -0.008</td> <td>    0.016</td>\n",
       "</tr>\n",
       "<tr>\n",
       "  <th>PPE-2018</th>            <td>-5.297e-07</td> <td> 8.71e-07</td> <td>   -0.608</td> <td> 0.543</td> <td>-2.24e-06</td> <td> 1.18e-06</td>\n",
       "</tr>\n",
       "<tr>\n",
       "  <th>Leverage Ratio-2019</th> <td> 5.731e-05</td> <td>    0.005</td> <td>    0.011</td> <td> 0.991</td> <td>   -0.010</td> <td>    0.010</td>\n",
       "</tr>\n",
       "<tr>\n",
       "  <th>Total Debt-2019</th>     <td>-2.356e-07</td> <td> 2.79e-07</td> <td>   -0.843</td> <td> 0.399</td> <td>-7.83e-07</td> <td> 3.12e-07</td>\n",
       "</tr>\n",
       "</table>"
      ],
      "text/plain": [
       "<class 'statsmodels.iolib.summary.Summary'>\n",
       "\"\"\"\n",
       "                              Logit Regression Results                              \n",
       "====================================================================================\n",
       "Dep. Variable:     Environment Pillar Score   No. Observations:                 1686\n",
       "Model:                                Logit   Df Residuals:                     1670\n",
       "Method:                                 MLE   Df Model:                           15\n",
       "Date:                      Thu, 02 Dec 2021   Pseudo R-squ.:               -0.007015\n",
       "Time:                              12:31:52   Log-Likelihood:                -1096.1\n",
       "converged:                             True   LL-Null:                       -1088.5\n",
       "Covariance Type:                  nonrobust   LLR p-value:                     1.000\n",
       "=======================================================================================\n",
       "                          coef    std err          z      P>|z|      [0.025      0.975]\n",
       "---------------------------------------------------------------------------------------\n",
       "IO                    -20.9339      7.077     -2.958      0.003     -34.804      -7.064\n",
       "const                  -0.3461      0.101     -3.439      0.001      -0.543      -0.149\n",
       "Leverage Ratio-2016    -0.0021      0.006     -0.384      0.701      -0.013       0.009\n",
       "Total Debt-2016      1.068e-07   3.71e-07      0.288      0.774   -6.21e-07    8.35e-07\n",
       "ROA-2016               -0.0008      0.005     -0.166      0.868      -0.011       0.009\n",
       "PPE-2016             3.494e-06   2.22e-06      1.576      0.115   -8.51e-07    7.84e-06\n",
       "Leverage Ratio-2017    -0.0005      0.009     -0.052      0.959      -0.018       0.017\n",
       "Total Debt-2017     -1.447e-07   4.91e-07     -0.295      0.768   -1.11e-06    8.18e-07\n",
       "ROA-2017                0.0076      0.006      1.170      0.242      -0.005       0.020\n",
       "PPE-2017            -2.389e-06   2.63e-06     -0.907      0.365   -7.55e-06    2.77e-06\n",
       "Leverage Ratio-2018     0.0045      0.008      0.563      0.574      -0.011       0.020\n",
       "Total Debt-2018      2.954e-07   4.48e-07      0.659      0.510   -5.83e-07    1.17e-06\n",
       "ROA-2018                0.0039      0.006      0.641      0.521      -0.008       0.016\n",
       "PPE-2018            -5.297e-07   8.71e-07     -0.608      0.543   -2.24e-06    1.18e-06\n",
       "Leverage Ratio-2019  5.731e-05      0.005      0.011      0.991      -0.010       0.010\n",
       "Total Debt-2019     -2.356e-07   2.79e-07     -0.843      0.399   -7.83e-07    3.12e-07\n",
       "=======================================================================================\n",
       "\"\"\""
      ]
     },
     "metadata": {},
     "execution_count": 89
    }
   ],
   "metadata": {}
  },
  {
   "cell_type": "code",
   "execution_count": 90,
   "source": [
    "sm.Logit(y, X.drop(\"IO\", axis = 1)).fit().summary()"
   ],
   "outputs": [
    {
     "output_type": "stream",
     "name": "stdout",
     "text": [
      "Optimization terminated successfully.\n",
      "         Current function value: 0.645679\n",
      "         Iterations 6\n"
     ]
    },
    {
     "output_type": "execute_result",
     "data": {
      "text/html": [
       "<table class=\"simpletable\">\n",
       "<caption>Logit Regression Results</caption>\n",
       "<tr>\n",
       "  <th>Dep. Variable:</th>   <td>Environment Pillar Score</td> <th>  No. Observations:  </th>   <td>  1686</td>  \n",
       "</tr>\n",
       "<tr>\n",
       "  <th>Model:</th>                     <td>Logit</td>          <th>  Df Residuals:      </th>   <td>  1670</td>  \n",
       "</tr>\n",
       "<tr>\n",
       "  <th>Method:</th>                     <td>MLE</td>           <th>  Df Model:          </th>   <td>    15</td>  \n",
       "</tr>\n",
       "<tr>\n",
       "  <th>Date:</th>                <td>Thu, 02 Dec 2021</td>     <th>  Pseudo R-squ.:     </th> <td>-0.0001480</td>\n",
       "</tr>\n",
       "<tr>\n",
       "  <th>Time:</th>                    <td>12:31:56</td>         <th>  Log-Likelihood:    </th>  <td> -1088.6</td> \n",
       "</tr>\n",
       "<tr>\n",
       "  <th>converged:</th>                 <td>True</td>           <th>  LL-Null:           </th>  <td> -1088.5</td> \n",
       "</tr>\n",
       "<tr>\n",
       "  <th>Covariance Type:</th>         <td>nonrobust</td>        <th>  LLR p-value:       </th>   <td> 1.000</td>  \n",
       "</tr>\n",
       "</table>\n",
       "<table class=\"simpletable\">\n",
       "<tr>\n",
       "           <td></td>              <th>coef</th>     <th>std err</th>      <th>z</th>      <th>P>|z|</th>  <th>[0.025</th>    <th>0.975]</th>  \n",
       "</tr>\n",
       "<tr>\n",
       "  <th>SIO</th>                 <td>  -22.5206</td> <td>    5.318</td> <td>   -4.235</td> <td> 0.000</td> <td>  -32.943</td> <td>  -12.098</td>\n",
       "</tr>\n",
       "<tr>\n",
       "  <th>const</th>               <td>   -0.3220</td> <td>    0.098</td> <td>   -3.281</td> <td> 0.001</td> <td>   -0.514</td> <td>   -0.130</td>\n",
       "</tr>\n",
       "<tr>\n",
       "  <th>Leverage Ratio-2016</th> <td>   -0.0024</td> <td>    0.006</td> <td>   -0.432</td> <td> 0.666</td> <td>   -0.013</td> <td>    0.008</td>\n",
       "</tr>\n",
       "<tr>\n",
       "  <th>Total Debt-2016</th>     <td>  1.05e-07</td> <td>  3.7e-07</td> <td>    0.284</td> <td> 0.777</td> <td>-6.21e-07</td> <td> 8.31e-07</td>\n",
       "</tr>\n",
       "<tr>\n",
       "  <th>ROA-2016</th>            <td>   -0.0008</td> <td>    0.005</td> <td>   -0.156</td> <td> 0.876</td> <td>   -0.010</td> <td>    0.009</td>\n",
       "</tr>\n",
       "<tr>\n",
       "  <th>PPE-2016</th>            <td>  3.46e-06</td> <td> 2.21e-06</td> <td>    1.566</td> <td> 0.117</td> <td>-8.72e-07</td> <td> 7.79e-06</td>\n",
       "</tr>\n",
       "<tr>\n",
       "  <th>Leverage Ratio-2017</th> <td>    0.0001</td> <td>    0.009</td> <td>    0.014</td> <td> 0.988</td> <td>   -0.017</td> <td>    0.017</td>\n",
       "</tr>\n",
       "<tr>\n",
       "  <th>Total Debt-2017</th>     <td> -1.36e-07</td> <td>  4.9e-07</td> <td>   -0.277</td> <td> 0.781</td> <td> -1.1e-06</td> <td> 8.25e-07</td>\n",
       "</tr>\n",
       "<tr>\n",
       "  <th>ROA-2017</th>            <td>    0.0077</td> <td>    0.006</td> <td>    1.184</td> <td> 0.237</td> <td>   -0.005</td> <td>    0.020</td>\n",
       "</tr>\n",
       "<tr>\n",
       "  <th>PPE-2017</th>            <td>-2.403e-06</td> <td> 2.62e-06</td> <td>   -0.917</td> <td> 0.359</td> <td>-7.54e-06</td> <td> 2.73e-06</td>\n",
       "</tr>\n",
       "<tr>\n",
       "  <th>Leverage Ratio-2018</th> <td>    0.0038</td> <td>    0.008</td> <td>    0.475</td> <td> 0.635</td> <td>   -0.012</td> <td>    0.020</td>\n",
       "</tr>\n",
       "<tr>\n",
       "  <th>Total Debt-2018</th>     <td> 2.909e-07</td> <td> 4.48e-07</td> <td>    0.650</td> <td> 0.516</td> <td>-5.87e-07</td> <td> 1.17e-06</td>\n",
       "</tr>\n",
       "<tr>\n",
       "  <th>ROA-2018</th>            <td>    0.0036</td> <td>    0.006</td> <td>    0.603</td> <td> 0.547</td> <td>   -0.008</td> <td>    0.015</td>\n",
       "</tr>\n",
       "<tr>\n",
       "  <th>PPE-2018</th>            <td>-4.984e-07</td> <td> 8.61e-07</td> <td>   -0.579</td> <td> 0.563</td> <td>-2.19e-06</td> <td> 1.19e-06</td>\n",
       "</tr>\n",
       "<tr>\n",
       "  <th>Leverage Ratio-2019</th> <td>    0.0009</td> <td>    0.005</td> <td>    0.170</td> <td> 0.865</td> <td>   -0.009</td> <td>    0.011</td>\n",
       "</tr>\n",
       "<tr>\n",
       "  <th>Total Debt-2019</th>     <td>-2.388e-07</td> <td> 2.79e-07</td> <td>   -0.857</td> <td> 0.392</td> <td>-7.85e-07</td> <td> 3.07e-07</td>\n",
       "</tr>\n",
       "</table>"
      ],
      "text/plain": [
       "<class 'statsmodels.iolib.summary.Summary'>\n",
       "\"\"\"\n",
       "                              Logit Regression Results                              \n",
       "====================================================================================\n",
       "Dep. Variable:     Environment Pillar Score   No. Observations:                 1686\n",
       "Model:                                Logit   Df Residuals:                     1670\n",
       "Method:                                 MLE   Df Model:                           15\n",
       "Date:                      Thu, 02 Dec 2021   Pseudo R-squ.:              -0.0001480\n",
       "Time:                              12:31:56   Log-Likelihood:                -1088.6\n",
       "converged:                             True   LL-Null:                       -1088.5\n",
       "Covariance Type:                  nonrobust   LLR p-value:                     1.000\n",
       "=======================================================================================\n",
       "                          coef    std err          z      P>|z|      [0.025      0.975]\n",
       "---------------------------------------------------------------------------------------\n",
       "SIO                   -22.5206      5.318     -4.235      0.000     -32.943     -12.098\n",
       "const                  -0.3220      0.098     -3.281      0.001      -0.514      -0.130\n",
       "Leverage Ratio-2016    -0.0024      0.006     -0.432      0.666      -0.013       0.008\n",
       "Total Debt-2016       1.05e-07    3.7e-07      0.284      0.777   -6.21e-07    8.31e-07\n",
       "ROA-2016               -0.0008      0.005     -0.156      0.876      -0.010       0.009\n",
       "PPE-2016              3.46e-06   2.21e-06      1.566      0.117   -8.72e-07    7.79e-06\n",
       "Leverage Ratio-2017     0.0001      0.009      0.014      0.988      -0.017       0.017\n",
       "Total Debt-2017      -1.36e-07    4.9e-07     -0.277      0.781    -1.1e-06    8.25e-07\n",
       "ROA-2017                0.0077      0.006      1.184      0.237      -0.005       0.020\n",
       "PPE-2017            -2.403e-06   2.62e-06     -0.917      0.359   -7.54e-06    2.73e-06\n",
       "Leverage Ratio-2018     0.0038      0.008      0.475      0.635      -0.012       0.020\n",
       "Total Debt-2018      2.909e-07   4.48e-07      0.650      0.516   -5.87e-07    1.17e-06\n",
       "ROA-2018                0.0036      0.006      0.603      0.547      -0.008       0.015\n",
       "PPE-2018            -4.984e-07   8.61e-07     -0.579      0.563   -2.19e-06    1.19e-06\n",
       "Leverage Ratio-2019     0.0009      0.005      0.170      0.865      -0.009       0.011\n",
       "Total Debt-2019     -2.388e-07   2.79e-07     -0.857      0.392   -7.85e-07    3.07e-07\n",
       "=======================================================================================\n",
       "\"\"\""
      ]
     },
     "metadata": {},
     "execution_count": 90
    }
   ],
   "metadata": {}
  },
  {
   "cell_type": "code",
   "execution_count": 91,
   "source": [
    "sm.Logit(y, X).fit().summary()"
   ],
   "outputs": [
    {
     "output_type": "stream",
     "name": "stdout",
     "text": [
      "Optimization terminated successfully.\n",
      "         Current function value: 0.627193\n",
      "         Iterations 6\n"
     ]
    },
    {
     "output_type": "execute_result",
     "data": {
      "text/html": [
       "<table class=\"simpletable\">\n",
       "<caption>Logit Regression Results</caption>\n",
       "<tr>\n",
       "  <th>Dep. Variable:</th>   <td>Environment Pillar Score</td> <th>  No. Observations:  </th>  <td>  1686</td>  \n",
       "</tr>\n",
       "<tr>\n",
       "  <th>Model:</th>                     <td>Logit</td>          <th>  Df Residuals:      </th>  <td>  1669</td>  \n",
       "</tr>\n",
       "<tr>\n",
       "  <th>Method:</th>                     <td>MLE</td>           <th>  Df Model:          </th>  <td>    16</td>  \n",
       "</tr>\n",
       "<tr>\n",
       "  <th>Date:</th>                <td>Thu, 02 Dec 2021</td>     <th>  Pseudo R-squ.:     </th>  <td>0.02849</td> \n",
       "</tr>\n",
       "<tr>\n",
       "  <th>Time:</th>                    <td>12:32:01</td>         <th>  Log-Likelihood:    </th> <td> -1057.4</td> \n",
       "</tr>\n",
       "<tr>\n",
       "  <th>converged:</th>                 <td>True</td>           <th>  LL-Null:           </th> <td> -1088.5</td> \n",
       "</tr>\n",
       "<tr>\n",
       "  <th>Covariance Type:</th>         <td>nonrobust</td>        <th>  LLR p-value:       </th> <td>2.390e-07</td>\n",
       "</tr>\n",
       "</table>\n",
       "<table class=\"simpletable\">\n",
       "<tr>\n",
       "           <td></td>              <th>coef</th>     <th>std err</th>      <th>z</th>      <th>P>|z|</th>  <th>[0.025</th>    <th>0.975]</th>  \n",
       "</tr>\n",
       "<tr>\n",
       "  <th>SIO</th>                 <td> -190.2611</td> <td>   29.184</td> <td>   -6.519</td> <td> 0.000</td> <td> -247.461</td> <td> -133.061</td>\n",
       "</tr>\n",
       "<tr>\n",
       "  <th>IO</th>                  <td>  233.9574</td> <td>   39.954</td> <td>    5.856</td> <td> 0.000</td> <td>  155.649</td> <td>  312.266</td>\n",
       "</tr>\n",
       "<tr>\n",
       "  <th>const</th>               <td>   -0.5861</td> <td>    0.109</td> <td>   -5.397</td> <td> 0.000</td> <td>   -0.799</td> <td>   -0.373</td>\n",
       "</tr>\n",
       "<tr>\n",
       "  <th>Leverage Ratio-2016</th> <td>   -0.0036</td> <td>    0.006</td> <td>   -0.621</td> <td> 0.535</td> <td>   -0.015</td> <td>    0.008</td>\n",
       "</tr>\n",
       "<tr>\n",
       "  <th>Total Debt-2016</th>     <td> 1.439e-07</td> <td> 3.73e-07</td> <td>    0.386</td> <td> 0.699</td> <td>-5.87e-07</td> <td> 8.74e-07</td>\n",
       "</tr>\n",
       "<tr>\n",
       "  <th>ROA-2016</th>            <td>   -0.0001</td> <td>    0.005</td> <td>   -0.026</td> <td> 0.979</td> <td>   -0.010</td> <td>    0.009</td>\n",
       "</tr>\n",
       "<tr>\n",
       "  <th>PPE-2016</th>            <td>  3.24e-06</td> <td> 2.21e-06</td> <td>    1.468</td> <td> 0.142</td> <td>-1.08e-06</td> <td> 7.57e-06</td>\n",
       "</tr>\n",
       "<tr>\n",
       "  <th>Leverage Ratio-2017</th> <td>    0.0019</td> <td>    0.009</td> <td>    0.206</td> <td> 0.837</td> <td>   -0.016</td> <td>    0.019</td>\n",
       "</tr>\n",
       "<tr>\n",
       "  <th>Total Debt-2017</th>     <td>-1.823e-07</td> <td> 4.93e-07</td> <td>   -0.370</td> <td> 0.711</td> <td>-1.15e-06</td> <td> 7.83e-07</td>\n",
       "</tr>\n",
       "<tr>\n",
       "  <th>ROA-2017</th>            <td>    0.0061</td> <td>    0.006</td> <td>    0.994</td> <td> 0.320</td> <td>   -0.006</td> <td>    0.018</td>\n",
       "</tr>\n",
       "<tr>\n",
       "  <th>PPE-2017</th>            <td> -2.22e-06</td> <td> 2.63e-06</td> <td>   -0.844</td> <td> 0.399</td> <td>-7.38e-06</td> <td> 2.94e-06</td>\n",
       "</tr>\n",
       "<tr>\n",
       "  <th>Leverage Ratio-2018</th> <td>    0.0039</td> <td>    0.008</td> <td>    0.480</td> <td> 0.631</td> <td>   -0.012</td> <td>    0.020</td>\n",
       "</tr>\n",
       "<tr>\n",
       "  <th>Total Debt-2018</th>     <td> 2.734e-07</td> <td> 4.47e-07</td> <td>    0.611</td> <td> 0.541</td> <td>-6.03e-07</td> <td> 1.15e-06</td>\n",
       "</tr>\n",
       "<tr>\n",
       "  <th>ROA-2018</th>            <td>    0.0023</td> <td>    0.006</td> <td>    0.389</td> <td> 0.697</td> <td>   -0.009</td> <td>    0.014</td>\n",
       "</tr>\n",
       "<tr>\n",
       "  <th>PPE-2018</th>            <td>-4.735e-07</td> <td> 8.75e-07</td> <td>   -0.541</td> <td> 0.589</td> <td>-2.19e-06</td> <td> 1.24e-06</td>\n",
       "</tr>\n",
       "<tr>\n",
       "  <th>Leverage Ratio-2019</th> <td>    0.0005</td> <td>    0.005</td> <td>    0.094</td> <td> 0.925</td> <td>   -0.010</td> <td>    0.011</td>\n",
       "</tr>\n",
       "<tr>\n",
       "  <th>Total Debt-2019</th>     <td>-2.122e-07</td> <td> 2.78e-07</td> <td>   -0.764</td> <td> 0.445</td> <td>-7.57e-07</td> <td> 3.33e-07</td>\n",
       "</tr>\n",
       "</table>"
      ],
      "text/plain": [
       "<class 'statsmodels.iolib.summary.Summary'>\n",
       "\"\"\"\n",
       "                              Logit Regression Results                              \n",
       "====================================================================================\n",
       "Dep. Variable:     Environment Pillar Score   No. Observations:                 1686\n",
       "Model:                                Logit   Df Residuals:                     1669\n",
       "Method:                                 MLE   Df Model:                           16\n",
       "Date:                      Thu, 02 Dec 2021   Pseudo R-squ.:                 0.02849\n",
       "Time:                              12:32:01   Log-Likelihood:                -1057.4\n",
       "converged:                             True   LL-Null:                       -1088.5\n",
       "Covariance Type:                  nonrobust   LLR p-value:                 2.390e-07\n",
       "=======================================================================================\n",
       "                          coef    std err          z      P>|z|      [0.025      0.975]\n",
       "---------------------------------------------------------------------------------------\n",
       "SIO                  -190.2611     29.184     -6.519      0.000    -247.461    -133.061\n",
       "IO                    233.9574     39.954      5.856      0.000     155.649     312.266\n",
       "const                  -0.5861      0.109     -5.397      0.000      -0.799      -0.373\n",
       "Leverage Ratio-2016    -0.0036      0.006     -0.621      0.535      -0.015       0.008\n",
       "Total Debt-2016      1.439e-07   3.73e-07      0.386      0.699   -5.87e-07    8.74e-07\n",
       "ROA-2016               -0.0001      0.005     -0.026      0.979      -0.010       0.009\n",
       "PPE-2016              3.24e-06   2.21e-06      1.468      0.142   -1.08e-06    7.57e-06\n",
       "Leverage Ratio-2017     0.0019      0.009      0.206      0.837      -0.016       0.019\n",
       "Total Debt-2017     -1.823e-07   4.93e-07     -0.370      0.711   -1.15e-06    7.83e-07\n",
       "ROA-2017                0.0061      0.006      0.994      0.320      -0.006       0.018\n",
       "PPE-2017             -2.22e-06   2.63e-06     -0.844      0.399   -7.38e-06    2.94e-06\n",
       "Leverage Ratio-2018     0.0039      0.008      0.480      0.631      -0.012       0.020\n",
       "Total Debt-2018      2.734e-07   4.47e-07      0.611      0.541   -6.03e-07    1.15e-06\n",
       "ROA-2018                0.0023      0.006      0.389      0.697      -0.009       0.014\n",
       "PPE-2018            -4.735e-07   8.75e-07     -0.541      0.589   -2.19e-06    1.24e-06\n",
       "Leverage Ratio-2019     0.0005      0.005      0.094      0.925      -0.010       0.011\n",
       "Total Debt-2019     -2.122e-07   2.78e-07     -0.764      0.445   -7.57e-07    3.33e-07\n",
       "=======================================================================================\n",
       "\"\"\""
      ]
     },
     "metadata": {},
     "execution_count": 91
    }
   ],
   "metadata": {}
  },
  {
   "cell_type": "code",
   "execution_count": null,
   "source": [],
   "outputs": [],
   "metadata": {}
  }
 ],
 "metadata": {
  "orig_nbformat": 4,
  "language_info": {
   "name": "python",
   "version": "3.8.9",
   "mimetype": "text/x-python",
   "codemirror_mode": {
    "name": "ipython",
    "version": 3
   },
   "pygments_lexer": "ipython3",
   "nbconvert_exporter": "python",
   "file_extension": ".py"
  },
  "kernelspec": {
   "name": "python3",
   "display_name": "Python 3.8.9 64-bit ('.venv': venv)"
  },
  "interpreter": {
   "hash": "7b46fb511bc59a61e2cf0fe05a56a1bcd3e13c2b34c73d026e34adf315775514"
  }
 },
 "nbformat": 4,
 "nbformat_minor": 2
}