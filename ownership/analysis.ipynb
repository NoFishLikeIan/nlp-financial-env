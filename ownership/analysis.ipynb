{
 "cells": [
  {
   "cell_type": "markdown",
   "source": [
    "# Setup"
   ],
   "metadata": {}
  },
  {
   "cell_type": "code",
   "execution_count": 2,
   "source": [
    "from utils import esg\n",
    "from utils.ownership import parse_ownership_data\n",
    "from utils.regressors import parse_regressors"
   ],
   "outputs": [],
   "metadata": {}
  },
  {
   "cell_type": "code",
   "execution_count": 3,
   "source": [
    "import seaborn as sns\n",
    "\n",
    "sns.set(style=\"white\",\n",
    "        palette=\"pastel\",\n",
    "        color_codes=True,\n",
    "        rc={'figure.figsize': (12, 9) })"
   ],
   "outputs": [],
   "metadata": {}
  },
  {
   "cell_type": "code",
   "execution_count": 4,
   "source": [
    "import pandas as pd\n",
    "import statsmodels.api as sm"
   ],
   "outputs": [],
   "metadata": {}
  },
  {
   "cell_type": "markdown",
   "source": [
    "# Importing data"
   ],
   "metadata": {}
  },
  {
   "cell_type": "code",
   "execution_count": 5,
   "source": [
    "import dotenv, os\n",
    "\n",
    "dotenv.load_dotenv()\n",
    "\n",
    "data_path = os.path.join(\"..\", os.environ.get(\"DATA_PATH\"))\n",
    "\n",
    "esg_path = os.path.join(data_path, \"ESG.xlsx\")\n",
    "sheet_name = os.environ.get(\"SHEET_NAME\")\n",
    "\n",
    "own_path = os.path.join(data_path, \"ownership.csv\")\n",
    "reg_path = os.path.join(data_path, \"controls.csv\")\n",
    "\n",
    "saliency_path = os.path.join(data_path, \"saliency.csv\")"
   ],
   "outputs": [],
   "metadata": {}
  },
  {
   "cell_type": "markdown",
   "source": [
    "## Covariates"
   ],
   "metadata": {}
  },
  {
   "cell_type": "code",
   "execution_count": 6,
   "source": [
    "raw = pd.read_csv(reg_path)\n",
    "covariates = parse_regressors(raw)"
   ],
   "outputs": [],
   "metadata": {}
  },
  {
   "cell_type": "markdown",
   "source": [
    "## ESG data"
   ],
   "metadata": {}
  },
  {
   "cell_type": "code",
   "execution_count": 7,
   "source": [
    "raw = pd.read_excel(esg_path, sheet_name = sheet_name)\n",
    "get_esg = esg.yearly_esg_maker(raw)"
   ],
   "outputs": [],
   "metadata": {}
  },
  {
   "cell_type": "markdown",
   "source": [
    "## Ownership data"
   ],
   "metadata": {}
  },
  {
   "cell_type": "code",
   "execution_count": 8,
   "source": [
    "ownership = parse_ownership_data(pd.read_csv(own_path))\n",
    "investors = ownership.columns[-7:]"
   ],
   "outputs": [],
   "metadata": {}
  },
  {
   "cell_type": "code",
   "execution_count": 9,
   "source": [
    "ticker_to_name = dict(zip(ownership.TargetFirms, ownership.Tickers))"
   ],
   "outputs": [],
   "metadata": {}
  },
  {
   "cell_type": "markdown",
   "source": [
    "## Saliency data"
   ],
   "metadata": {}
  },
  {
   "cell_type": "code",
   "execution_count": 10,
   "source": [
    "saliency_df = pd.read_csv(saliency_path, index_col = [0, 1])"
   ],
   "outputs": [],
   "metadata": {}
  },
  {
   "cell_type": "markdown",
   "source": [
    "# Regression"
   ],
   "metadata": {}
  },
  {
   "cell_type": "code",
   "execution_count": 12,
   "source": [
    "saliency_df.loc[\"ANNUAL\", \"s-index\"]"
   ],
   "outputs": [
    {
     "output_type": "execute_result",
     "data": {
      "text/plain": [
       "blackrock    7.477605e-08\n",
       "dws          0.000000e+00\n",
       "generali     1.498465e-05\n",
       "jpmam        1.091731e-04\n",
       "nn           4.881136e-04\n",
       "apg          0.000000e+00\n",
       "nbim         0.000000e+00\n",
       "Name: (ANNUAL, s-index), dtype: float64"
      ]
     },
     "metadata": {},
     "execution_count": 12
    }
   ],
   "metadata": {}
  },
  {
   "cell_type": "code",
   "execution_count": 13,
   "source": [
    "def makeregressors(saliency_df, ownership, covariates, index):\n",
    "\n",
    "    reports = set([i[0] for i in saliency_df.index])\n",
    "    \n",
    "    companies = ownership.columns[-7:]\n",
    "    X = ownership[companies]\n",
    "    X.columns = [f\"{company} ownership\".lower() for company in companies]\n",
    "    X.index = ownership['Tickers']\n",
    "\n",
    "    for report in reports:\n",
    "        S = saliency_df.loc[report, index]\n",
    "\n",
    "        for company in S.index:\n",
    "            column_name = f\"{company} {report.lower()}\"\n",
    "            X.loc[:, f\"{column_name} interaction\"] = X[f\"{company} ownership\"] * S[company] \n",
    "    \n",
    "    X = sm.add_constant(X, prepend = False, has_constant='add')\n",
    "\n",
    "    common_indices = set(X.index).intersection(covariates.index)\n",
    "\n",
    "    X = pd.concat([X.loc[common_indices], covariates.loc[common_indices]], axis = 1)\n",
    "\n",
    "    return X"
   ],
   "outputs": [],
   "metadata": {}
  },
  {
   "cell_type": "code",
   "execution_count": 14,
   "source": [
    "X = makeregressors(saliency_df, ownership, covariates, \"s-index\").dropna()"
   ],
   "outputs": [
    {
     "output_type": "stream",
     "name": "stderr",
     "text": [
      "/Users/andreatitton/economics/nlp-financial-env/.venv/lib/python3.8/site-packages/pandas/core/indexing.py:1667: SettingWithCopyWarning: \n",
      "A value is trying to be set on a copy of a slice from a DataFrame.\n",
      "Try using .loc[row_indexer,col_indexer] = value instead\n",
      "\n",
      "See the caveats in the documentation: https://pandas.pydata.org/pandas-docs/stable/user_guide/indexing.html#returning-a-view-versus-a-copy\n",
      "  self.obj[key] = value\n"
     ]
    }
   ],
   "metadata": {}
  },
  {
   "cell_type": "code",
   "execution_count": 17,
   "source": [
    "y = get_esg(2020)[\"ESG Combined Score\"] / 100\n",
    "y.index = [ticker_to_name.get(f, f) for f in  y.index]\n",
    "common_indices = set(y.index).intersection(set(X.index))\n",
    "\n",
    "y = y.loc[common_indices]\n",
    "X = X.loc[common_indices]"
   ],
   "outputs": [],
   "metadata": {}
  },
  {
   "cell_type": "code",
   "execution_count": 18,
   "source": [
    "model = sm.RLM(y, X, M=sm.robust.norms.HuberT())"
   ],
   "outputs": [],
   "metadata": {}
  },
  {
   "cell_type": "code",
   "execution_count": 31,
   "source": [
    "model.fit().summary()"
   ],
   "outputs": [
    {
     "output_type": "execute_result",
     "data": {
      "text/html": [
       "<table class=\"simpletable\">\n",
       "<caption>Robust linear Model Regression Results</caption>\n",
       "<tr>\n",
       "  <th>Dep. Variable:</th>  <td>ESG Combined Score</td> <th>  No. Observations:  </th> <td>  2090</td>\n",
       "</tr>\n",
       "<tr>\n",
       "  <th>Model:</th>                  <td>RLM</td>        <th>  Df Residuals:      </th> <td>  2064</td>\n",
       "</tr>\n",
       "<tr>\n",
       "  <th>Method:</th>                <td>IRLS</td>        <th>  Df Model:          </th> <td>    25</td>\n",
       "</tr>\n",
       "<tr>\n",
       "  <th>Norm:</th>                 <td>HuberT</td>       <th>                     </th>    <td> </td>  \n",
       "</tr>\n",
       "<tr>\n",
       "  <th>Scale Est.:</th>             <td>mad</td>        <th>                     </th>    <td> </td>  \n",
       "</tr>\n",
       "<tr>\n",
       "  <th>Cov Type:</th>               <td>H1</td>         <th>                     </th>    <td> </td>  \n",
       "</tr>\n",
       "<tr>\n",
       "  <th>Date:</th>            <td>Fri, 26 Nov 2021</td>  <th>                     </th>    <td> </td>  \n",
       "</tr>\n",
       "<tr>\n",
       "  <th>Time:</th>                <td>11:57:47</td>      <th>                     </th>    <td> </td>  \n",
       "</tr>\n",
       "<tr>\n",
       "  <th>No. Iterations:</th>         <td>50</td>         <th>                     </th>    <td> </td>  \n",
       "</tr>\n",
       "</table>\n",
       "<table class=\"simpletable\">\n",
       "<tr>\n",
       "                      <td></td>                        <th>coef</th>     <th>std err</th>      <th>z</th>      <th>P>|z|</th>  <th>[0.025</th>    <th>0.975]</th>  \n",
       "</tr>\n",
       "<tr>\n",
       "  <th>nn ownership</th>                             <td>    1.5220</td> <td>    1.760</td> <td>    0.865</td> <td> 0.387</td> <td>   -1.927</td> <td>    4.971</td>\n",
       "</tr>\n",
       "<tr>\n",
       "  <th>blackrock ownership</th>                      <td>   -0.4433</td> <td>    0.103</td> <td>   -4.303</td> <td> 0.000</td> <td>   -0.645</td> <td>   -0.241</td>\n",
       "</tr>\n",
       "<tr>\n",
       "  <th>nbim ownership</th>                           <td>    5.8036</td> <td>    0.340</td> <td>   17.064</td> <td> 0.000</td> <td>    5.137</td> <td>    6.470</td>\n",
       "</tr>\n",
       "<tr>\n",
       "  <th>generali ownership</th>                       <td>  220.0968</td> <td>   83.531</td> <td>    2.635</td> <td> 0.008</td> <td>   56.379</td> <td>  383.814</td>\n",
       "</tr>\n",
       "<tr>\n",
       "  <th>jpmam ownership</th>                          <td>    0.5431</td> <td>    0.590</td> <td>    0.921</td> <td> 0.357</td> <td>   -0.613</td> <td>    1.699</td>\n",
       "</tr>\n",
       "<tr>\n",
       "  <th>apg ownership</th>                            <td>    1.2069</td> <td>    3.874</td> <td>    0.312</td> <td> 0.755</td> <td>   -6.386</td> <td>    8.799</td>\n",
       "</tr>\n",
       "<tr>\n",
       "  <th>dws ownership</th>                            <td>    3.6925</td> <td>    1.235</td> <td>    2.990</td> <td> 0.003</td> <td>    1.272</td> <td>    6.113</td>\n",
       "</tr>\n",
       "<tr>\n",
       "  <th>blackrock ri_report interaction</th>          <td>   -0.0018</td> <td>    0.000</td> <td>   -4.300</td> <td> 0.000</td> <td>   -0.003</td> <td>   -0.001</td>\n",
       "</tr>\n",
       "<tr>\n",
       "  <th>dws ri_report interaction</th>                <td>    0.0160</td> <td>    0.005</td> <td>    2.991</td> <td> 0.003</td> <td>    0.006</td> <td>    0.027</td>\n",
       "</tr>\n",
       "<tr>\n",
       "  <th>generali ri_report interaction</th>           <td>    1.9799</td> <td>    0.751</td> <td>    2.635</td> <td> 0.008</td> <td>    0.507</td> <td>    3.453</td>\n",
       "</tr>\n",
       "<tr>\n",
       "  <th>jpmam ri_report interaction</th>              <td>    0.0013</td> <td>    0.001</td> <td>    0.922</td> <td> 0.356</td> <td>   -0.001</td> <td>    0.004</td>\n",
       "</tr>\n",
       "<tr>\n",
       "  <th>nn ri_report interaction</th>                 <td>    0.0019</td> <td>    0.002</td> <td>    0.868</td> <td> 0.385</td> <td>   -0.002</td> <td>    0.006</td>\n",
       "</tr>\n",
       "<tr>\n",
       "  <th>apg ri_report interaction</th>                <td> 6.709e-09</td> <td> 1.95e-09</td> <td>    3.447</td> <td> 0.001</td> <td> 2.89e-09</td> <td> 1.05e-08</td>\n",
       "</tr>\n",
       "<tr>\n",
       "  <th>nbim ri_report interaction</th>               <td> 1.123e-10</td> <td> 3.21e-10</td> <td>    0.350</td> <td> 0.727</td> <td>-5.17e-10</td> <td> 7.42e-10</td>\n",
       "</tr>\n",
       "<tr>\n",
       "  <th>blackrock voting_policy interaction</th>      <td>-5.851e-05</td> <td> 1.36e-05</td> <td>   -4.304</td> <td> 0.000</td> <td>-8.52e-05</td> <td>-3.19e-05</td>\n",
       "</tr>\n",
       "<tr>\n",
       "  <th>dws voting_policy interaction</th>            <td>    0.0007</td> <td>    0.000</td> <td>    2.990</td> <td> 0.003</td> <td>    0.000</td> <td>    0.001</td>\n",
       "</tr>\n",
       "<tr>\n",
       "  <th>generali voting_policy interaction</th>       <td>    0.5520</td> <td>    0.209</td> <td>    2.635</td> <td> 0.008</td> <td>    0.141</td> <td>    0.963</td>\n",
       "</tr>\n",
       "<tr>\n",
       "  <th>jpmam voting_policy interaction</th>          <td> 5.476e-06</td> <td> 5.95e-06</td> <td>    0.921</td> <td> 0.357</td> <td>-6.18e-06</td> <td> 1.71e-05</td>\n",
       "</tr>\n",
       "<tr>\n",
       "  <th>nn voting_policy interaction</th>             <td>    0.0004</td> <td>    0.000</td> <td>    0.865</td> <td> 0.387</td> <td>   -0.000</td> <td>    0.001</td>\n",
       "</tr>\n",
       "<tr>\n",
       "  <th>apg voting_policy interaction</th>            <td>    0.0013</td> <td>    0.004</td> <td>    0.312</td> <td> 0.755</td> <td>   -0.007</td> <td>    0.010</td>\n",
       "</tr>\n",
       "<tr>\n",
       "  <th>nbim voting_policy interaction</th>           <td>    0.0025</td> <td>    0.000</td> <td>   17.064</td> <td> 0.000</td> <td>    0.002</td> <td>    0.003</td>\n",
       "</tr>\n",
       "<tr>\n",
       "  <th>blackrock annual interaction</th>             <td>-3.315e-08</td> <td>  7.7e-09</td> <td>   -4.304</td> <td> 0.000</td> <td>-4.83e-08</td> <td>-1.81e-08</td>\n",
       "</tr>\n",
       "<tr>\n",
       "  <th>dws annual interaction</th>                   <td>-2.809e-14</td> <td> 7.83e-16</td> <td>  -35.850</td> <td> 0.000</td> <td>-2.96e-14</td> <td>-2.66e-14</td>\n",
       "</tr>\n",
       "<tr>\n",
       "  <th>generali annual interaction</th>              <td>    0.0033</td> <td>    0.001</td> <td>    2.635</td> <td> 0.008</td> <td>    0.001</td> <td>    0.006</td>\n",
       "</tr>\n",
       "<tr>\n",
       "  <th>jpmam annual interaction</th>                 <td> 5.929e-05</td> <td> 6.44e-05</td> <td>    0.921</td> <td> 0.357</td> <td>-6.69e-05</td> <td>    0.000</td>\n",
       "</tr>\n",
       "<tr>\n",
       "  <th>nn annual interaction</th>                    <td>    0.0007</td> <td>    0.001</td> <td>    0.865</td> <td> 0.387</td> <td>   -0.001</td> <td>    0.002</td>\n",
       "</tr>\n",
       "<tr>\n",
       "  <th>apg annual interaction</th>                   <td>         0</td> <td>        0</td> <td>      nan</td> <td>   nan</td> <td>        0</td> <td>        0</td>\n",
       "</tr>\n",
       "<tr>\n",
       "  <th>nbim annual interaction</th>                  <td>         0</td> <td>        0</td> <td>      nan</td> <td>   nan</td> <td>        0</td> <td>        0</td>\n",
       "</tr>\n",
       "<tr>\n",
       "  <th>blackrock stewardship_policy interaction</th> <td>   -0.0078</td> <td>    0.002</td> <td>   -4.304</td> <td> 0.000</td> <td>   -0.011</td> <td>   -0.004</td>\n",
       "</tr>\n",
       "<tr>\n",
       "  <th>dws stewardship_policy interaction</th>       <td>    0.0205</td> <td>    0.007</td> <td>    2.990</td> <td> 0.003</td> <td>    0.007</td> <td>    0.034</td>\n",
       "</tr>\n",
       "<tr>\n",
       "  <th>generali stewardship_policy interaction</th>  <td>    1.3252</td> <td>    0.503</td> <td>    2.635</td> <td> 0.008</td> <td>    0.339</td> <td>    2.311</td>\n",
       "</tr>\n",
       "<tr>\n",
       "  <th>jpmam stewardship_policy interaction</th>     <td>    0.0059</td> <td>    0.006</td> <td>    0.921</td> <td> 0.357</td> <td>   -0.007</td> <td>    0.019</td>\n",
       "</tr>\n",
       "<tr>\n",
       "  <th>nn stewardship_policy interaction</th>        <td>    0.0098</td> <td>    0.011</td> <td>    0.865</td> <td> 0.387</td> <td>   -0.012</td> <td>    0.032</td>\n",
       "</tr>\n",
       "<tr>\n",
       "  <th>apg stewardship_policy interaction</th>       <td>    0.0114</td> <td>    0.037</td> <td>    0.312</td> <td> 0.755</td> <td>   -0.060</td> <td>    0.083</td>\n",
       "</tr>\n",
       "<tr>\n",
       "  <th>nbim stewardship_policy interaction</th>      <td>    0.0381</td> <td>    0.002</td> <td>   17.064</td> <td> 0.000</td> <td>    0.034</td> <td>    0.042</td>\n",
       "</tr>\n",
       "<tr>\n",
       "  <th>const</th>                                    <td>    0.3473</td> <td>    0.008</td> <td>   44.343</td> <td> 0.000</td> <td>    0.332</td> <td>    0.363</td>\n",
       "</tr>\n",
       "<tr>\n",
       "  <th>Leverage Ratio-2016</th>                      <td>-1.226e-05</td> <td>    0.000</td> <td>   -0.030</td> <td> 0.976</td> <td>   -0.001</td> <td>    0.001</td>\n",
       "</tr>\n",
       "<tr>\n",
       "  <th>Total Debt-2016</th>                          <td> 3.364e-08</td> <td> 3.33e-08</td> <td>    1.010</td> <td> 0.312</td> <td>-3.16e-08</td> <td> 9.89e-08</td>\n",
       "</tr>\n",
       "<tr>\n",
       "  <th>Total Assets (Assets Value)-2016</th>         <td>-2.145e-08</td> <td> 1.79e-08</td> <td>   -1.195</td> <td> 0.232</td> <td>-5.66e-08</td> <td> 1.37e-08</td>\n",
       "</tr>\n",
       "<tr>\n",
       "  <th>ROA-2016</th>                                 <td>    0.0003</td> <td>    0.000</td> <td>    1.232</td> <td> 0.218</td> <td>   -0.000</td> <td>    0.001</td>\n",
       "</tr>\n",
       "<tr>\n",
       "  <th>PPE-2016</th>                                 <td> 2.205e-07</td> <td> 1.55e-07</td> <td>    1.421</td> <td> 0.155</td> <td>-8.37e-08</td> <td> 5.25e-07</td>\n",
       "</tr>\n",
       "<tr>\n",
       "  <th>Leverage Ratio-2017</th>                      <td>   -0.0003</td> <td>    0.001</td> <td>   -0.474</td> <td> 0.636</td> <td>   -0.002</td> <td>    0.001</td>\n",
       "</tr>\n",
       "<tr>\n",
       "  <th>Total Debt-2017</th>                          <td>-2.458e-08</td> <td> 5.09e-08</td> <td>   -0.483</td> <td> 0.629</td> <td>-1.24e-07</td> <td> 7.51e-08</td>\n",
       "</tr>\n",
       "<tr>\n",
       "  <th>Total Assets (Assets Value)-2017</th>         <td> 2.086e-08</td> <td> 2.04e-08</td> <td>    1.022</td> <td> 0.307</td> <td>-1.91e-08</td> <td> 6.08e-08</td>\n",
       "</tr>\n",
       "<tr>\n",
       "  <th>ROA-2017</th>                                 <td>    0.0007</td> <td>    0.000</td> <td>    2.338</td> <td> 0.019</td> <td>    0.000</td> <td>    0.001</td>\n",
       "</tr>\n",
       "<tr>\n",
       "  <th>PPE-2017</th>                                 <td>-2.417e-07</td> <td> 1.77e-07</td> <td>   -1.365</td> <td> 0.172</td> <td>-5.89e-07</td> <td> 1.05e-07</td>\n",
       "</tr>\n",
       "<tr>\n",
       "  <th>Leverage Ratio-2018</th>                      <td>    0.0004</td> <td>    0.001</td> <td>    0.600</td> <td> 0.548</td> <td>   -0.001</td> <td>    0.002</td>\n",
       "</tr>\n",
       "<tr>\n",
       "  <th>Total Debt-2018</th>                          <td>-7.822e-09</td> <td>  5.1e-08</td> <td>   -0.153</td> <td> 0.878</td> <td>-1.08e-07</td> <td> 9.22e-08</td>\n",
       "</tr>\n",
       "<tr>\n",
       "  <th>Total Assets (Assets Value)-2018</th>         <td> 2.353e-09</td> <td> 2.16e-08</td> <td>    0.109</td> <td> 0.913</td> <td>   -4e-08</td> <td> 4.47e-08</td>\n",
       "</tr>\n",
       "<tr>\n",
       "  <th>ROA-2018</th>                                 <td>    0.0008</td> <td>    0.000</td> <td>    2.256</td> <td> 0.024</td> <td>    0.000</td> <td>    0.002</td>\n",
       "</tr>\n",
       "<tr>\n",
       "  <th>PPE-2018</th>                                 <td>  4.92e-08</td> <td> 4.68e-08</td> <td>    1.052</td> <td> 0.293</td> <td>-4.25e-08</td> <td> 1.41e-07</td>\n",
       "</tr>\n",
       "<tr>\n",
       "  <th>Leverage Ratio-2019</th>                      <td>    0.0007</td> <td>    0.000</td> <td>    1.781</td> <td> 0.075</td> <td>-6.81e-05</td> <td>    0.001</td>\n",
       "</tr>\n",
       "<tr>\n",
       "  <th>Total Debt-2019</th>                          <td>-5.948e-09</td> <td> 3.46e-08</td> <td>   -0.172</td> <td> 0.863</td> <td>-7.37e-08</td> <td> 6.18e-08</td>\n",
       "</tr>\n",
       "<tr>\n",
       "  <th>Total Assets (Assets Value)-2019</th>         <td>-9.027e-10</td> <td> 1.84e-08</td> <td>   -0.049</td> <td> 0.961</td> <td> -3.7e-08</td> <td> 3.52e-08</td>\n",
       "</tr>\n",
       "</table><br/><br/>If the model instance has been used for another fit with different fit parameters, then the fit options might not be the correct ones anymore ."
      ],
      "text/plain": [
       "<class 'statsmodels.iolib.summary.Summary'>\n",
       "\"\"\"\n",
       "                    Robust linear Model Regression Results                    \n",
       "==============================================================================\n",
       "Dep. Variable:     ESG Combined Score   No. Observations:                 2090\n",
       "Model:                            RLM   Df Residuals:                     2064\n",
       "Method:                          IRLS   Df Model:                           25\n",
       "Norm:                          HuberT                                         \n",
       "Scale Est.:                       mad                                         \n",
       "Cov Type:                          H1                                         \n",
       "Date:                Fri, 26 Nov 2021                                         \n",
       "Time:                        11:57:47                                         \n",
       "No. Iterations:                    50                                         \n",
       "============================================================================================================\n",
       "                                               coef    std err          z      P>|z|      [0.025      0.975]\n",
       "------------------------------------------------------------------------------------------------------------\n",
       "nn ownership                                 1.5220      1.760      0.865      0.387      -1.927       4.971\n",
       "blackrock ownership                         -0.4433      0.103     -4.303      0.000      -0.645      -0.241\n",
       "nbim ownership                               5.8036      0.340     17.064      0.000       5.137       6.470\n",
       "generali ownership                         220.0968     83.531      2.635      0.008      56.379     383.814\n",
       "jpmam ownership                              0.5431      0.590      0.921      0.357      -0.613       1.699\n",
       "apg ownership                                1.2069      3.874      0.312      0.755      -6.386       8.799\n",
       "dws ownership                                3.6925      1.235      2.990      0.003       1.272       6.113\n",
       "blackrock ri_report interaction             -0.0018      0.000     -4.300      0.000      -0.003      -0.001\n",
       "dws ri_report interaction                    0.0160      0.005      2.991      0.003       0.006       0.027\n",
       "generali ri_report interaction               1.9799      0.751      2.635      0.008       0.507       3.453\n",
       "jpmam ri_report interaction                  0.0013      0.001      0.922      0.356      -0.001       0.004\n",
       "nn ri_report interaction                     0.0019      0.002      0.868      0.385      -0.002       0.006\n",
       "apg ri_report interaction                 6.709e-09   1.95e-09      3.447      0.001    2.89e-09    1.05e-08\n",
       "nbim ri_report interaction                1.123e-10   3.21e-10      0.350      0.727   -5.17e-10    7.42e-10\n",
       "blackrock voting_policy interaction      -5.851e-05   1.36e-05     -4.304      0.000   -8.52e-05   -3.19e-05\n",
       "dws voting_policy interaction                0.0007      0.000      2.990      0.003       0.000       0.001\n",
       "generali voting_policy interaction           0.5520      0.209      2.635      0.008       0.141       0.963\n",
       "jpmam voting_policy interaction           5.476e-06   5.95e-06      0.921      0.357   -6.18e-06    1.71e-05\n",
       "nn voting_policy interaction                 0.0004      0.000      0.865      0.387      -0.000       0.001\n",
       "apg voting_policy interaction                0.0013      0.004      0.312      0.755      -0.007       0.010\n",
       "nbim voting_policy interaction               0.0025      0.000     17.064      0.000       0.002       0.003\n",
       "blackrock annual interaction             -3.315e-08    7.7e-09     -4.304      0.000   -4.83e-08   -1.81e-08\n",
       "dws annual interaction                   -2.809e-14   7.83e-16    -35.850      0.000   -2.96e-14   -2.66e-14\n",
       "generali annual interaction                  0.0033      0.001      2.635      0.008       0.001       0.006\n",
       "jpmam annual interaction                  5.929e-05   6.44e-05      0.921      0.357   -6.69e-05       0.000\n",
       "nn annual interaction                        0.0007      0.001      0.865      0.387      -0.001       0.002\n",
       "apg annual interaction                            0          0        nan        nan           0           0\n",
       "nbim annual interaction                           0          0        nan        nan           0           0\n",
       "blackrock stewardship_policy interaction    -0.0078      0.002     -4.304      0.000      -0.011      -0.004\n",
       "dws stewardship_policy interaction           0.0205      0.007      2.990      0.003       0.007       0.034\n",
       "generali stewardship_policy interaction      1.3252      0.503      2.635      0.008       0.339       2.311\n",
       "jpmam stewardship_policy interaction         0.0059      0.006      0.921      0.357      -0.007       0.019\n",
       "nn stewardship_policy interaction            0.0098      0.011      0.865      0.387      -0.012       0.032\n",
       "apg stewardship_policy interaction           0.0114      0.037      0.312      0.755      -0.060       0.083\n",
       "nbim stewardship_policy interaction          0.0381      0.002     17.064      0.000       0.034       0.042\n",
       "const                                        0.3473      0.008     44.343      0.000       0.332       0.363\n",
       "Leverage Ratio-2016                      -1.226e-05      0.000     -0.030      0.976      -0.001       0.001\n",
       "Total Debt-2016                           3.364e-08   3.33e-08      1.010      0.312   -3.16e-08    9.89e-08\n",
       "Total Assets (Assets Value)-2016         -2.145e-08   1.79e-08     -1.195      0.232   -5.66e-08    1.37e-08\n",
       "ROA-2016                                     0.0003      0.000      1.232      0.218      -0.000       0.001\n",
       "PPE-2016                                  2.205e-07   1.55e-07      1.421      0.155   -8.37e-08    5.25e-07\n",
       "Leverage Ratio-2017                         -0.0003      0.001     -0.474      0.636      -0.002       0.001\n",
       "Total Debt-2017                          -2.458e-08   5.09e-08     -0.483      0.629   -1.24e-07    7.51e-08\n",
       "Total Assets (Assets Value)-2017          2.086e-08   2.04e-08      1.022      0.307   -1.91e-08    6.08e-08\n",
       "ROA-2017                                     0.0007      0.000      2.338      0.019       0.000       0.001\n",
       "PPE-2017                                 -2.417e-07   1.77e-07     -1.365      0.172   -5.89e-07    1.05e-07\n",
       "Leverage Ratio-2018                          0.0004      0.001      0.600      0.548      -0.001       0.002\n",
       "Total Debt-2018                          -7.822e-09    5.1e-08     -0.153      0.878   -1.08e-07    9.22e-08\n",
       "Total Assets (Assets Value)-2018          2.353e-09   2.16e-08      0.109      0.913      -4e-08    4.47e-08\n",
       "ROA-2018                                     0.0008      0.000      2.256      0.024       0.000       0.002\n",
       "PPE-2018                                   4.92e-08   4.68e-08      1.052      0.293   -4.25e-08    1.41e-07\n",
       "Leverage Ratio-2019                          0.0007      0.000      1.781      0.075   -6.81e-05       0.001\n",
       "Total Debt-2019                          -5.948e-09   3.46e-08     -0.172      0.863   -7.37e-08    6.18e-08\n",
       "Total Assets (Assets Value)-2019         -9.027e-10   1.84e-08     -0.049      0.961    -3.7e-08    3.52e-08\n",
       "============================================================================================================\n",
       "\n",
       "If the model instance has been used for another fit with different fit parameters, then the fit options might not be the correct ones anymore .\n",
       "\"\"\""
      ]
     },
     "metadata": {},
     "execution_count": 31
    }
   ],
   "metadata": {}
  },
  {
   "cell_type": "code",
   "execution_count": null,
   "source": [],
   "outputs": [],
   "metadata": {}
  }
 ],
 "metadata": {
  "orig_nbformat": 4,
  "language_info": {
   "name": "python",
   "version": "3.8.9",
   "mimetype": "text/x-python",
   "codemirror_mode": {
    "name": "ipython",
    "version": 3
   },
   "pygments_lexer": "ipython3",
   "nbconvert_exporter": "python",
   "file_extension": ".py"
  },
  "kernelspec": {
   "name": "python3",
   "display_name": "Python 3.8.9 64-bit ('.venv': venv)"
  },
  "interpreter": {
   "hash": "7b46fb511bc59a61e2cf0fe05a56a1bcd3e13c2b34c73d026e34adf315775514"
  }
 },
 "nbformat": 4,
 "nbformat_minor": 2
}